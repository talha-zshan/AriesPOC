{
 "cells": [
  {
   "cell_type": "markdown",
   "metadata": {},
   "source": [
    "# Aries Federated Learning Playground\n",
    "\n",
    "In this set of notebooks we are combining federated learning with the authenticated communication and credential capabilities of Hyperledger Aries agents.\n",
    "\n",
    "It builds on ideas first set out in this paper: [A Distributed Trust Framework for Privacy-Preserving Machine Learning](https://www.researchgate.net/publication/341932337_A_Distributed_Trust_Framework_for_Privacy-Preserving_Machine_Learning)"
   ]
  },
  {
   "cell_type": "markdown",
   "metadata": {},
   "source": [
    "## Trust Framework\n",
    "\n",
    "The idea is that we can use Verifiable Credentials to authenticate different participants in a federated learning workflow. This set of notebooks demonstrates this within a health setting where a researcher wishes to train a model on data held by hospitals. Two authorities are considered, an NHS Trust who is the healthcare authority for a set of Hospitals and a Health Research Authority responsible for accrediting researchers to perform specific research.\n",
    "\n",
    "For training to be initiated the following rules must be met:\n",
    "\n",
    "* A Researcher will only send their model to a Hospital if they can prove they are indeed a Hospital be presenting a credential issued from the NHS Trust.\n",
    "* A Hospital will only train a model they receive if the research can prove they have had their research accredited by the Health Research Authority.\n",
    "\n"
   ]
  },
  {
   "cell_type": "code",
   "execution_count": null,
   "metadata": {},
   "outputs": [],
   "source": []
  }
 ],
 "metadata": {
  "kernelspec": {
   "display_name": "Python 3",
   "language": "python",
   "name": "python3"
  },
  "language_info": {
   "codemirror_mode": {
    "name": "ipython",
    "version": 3
   },
   "file_extension": ".py",
   "mimetype": "text/x-python",
   "name": "python",
   "nbconvert_exporter": "python",
   "pygments_lexer": "ipython3",
   "version": "3.7.6"
  }
 },
 "nbformat": 4,
 "nbformat_minor": 4
}
