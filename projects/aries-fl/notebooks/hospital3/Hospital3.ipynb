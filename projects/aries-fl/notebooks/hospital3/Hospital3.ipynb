{
 "cells": [
  {
   "cell_type": "markdown",
   "id": "tired-rally",
   "metadata": {},
   "source": [
    "# Hospital 3\n",
    "\n",
    "See hospital.py for full code"
   ]
  },
  {
   "cell_type": "code",
   "execution_count": 1,
   "id": "strong-router",
   "metadata": {},
   "outputs": [],
   "source": [
    "from hospital.hospital import Hospital\n",
    "import nest_asyncio\n",
    "\n",
    "nest_asyncio.apply()"
   ]
  },
  {
   "cell_type": "code",
   "execution_count": 2,
   "id": "still-frame",
   "metadata": {},
   "outputs": [],
   "source": [
    "data_location = 'data/hospital3.csv'"
   ]
  },
  {
   "cell_type": "code",
   "execution_count": 3,
   "id": "patient-locking",
   "metadata": {},
   "outputs": [],
   "source": [
    "WEBHOOK_HOST = \"0.0.0.0\"\n",
    "WEBHOOK_PORT = 8072\n",
    "WEBHOOK_BASE = \"\"\n",
    "ADMIN_URL = \"http://hospital3-agent:8071\"\n",
    "\n",
    "agent_config = {\n",
    "    \"webhook_host\": WEBHOOK_HOST,\n",
    "    \"webhook_port\": WEBHOOK_PORT,\n",
    "    \"webhook_base\": WEBHOOK_BASE,\n",
    "    \"admin_url\": ADMIN_URL\n",
    "}"
   ]
  },
  {
   "cell_type": "code",
   "execution_count": 4,
   "id": "italian-group",
   "metadata": {},
   "outputs": [
    {
     "name": "stdout",
     "output_type": "stream",
     "text": [
      "Data Processed\n"
     ]
    }
   ],
   "source": [
    "hospital3 = Hospital(agent_config, data_location)"
   ]
  },
  {
   "cell_type": "markdown",
   "id": "fallen-festival",
   "metadata": {},
   "source": [
    "## Get Hospital Credential\n",
    "\n",
    "Copy connection invite from the NHS trust to receive the hospital credential. [NHS Trust Notebooks are here](http://localhost:8888/tree)"
   ]
  },
  {
   "cell_type": "code",
   "execution_count": null,
   "id": "respective-african",
   "metadata": {},
   "outputs": [],
   "source": [
    "nhs_invite = {'@type': 'did:sov:BzCbsNYhMrjHiqZDTUASHg;spec/connections/1.0/invitation', '@id': 'df4381ca-79e2-476f-916b-743b24a77144', 'label': 'NHS Lothian', 'serviceEndpoint': 'http://172.17.0.1:8020', 'recipientKeys': ['7adLaVm5LjUkGsh8jMu5DnQpLHteaC17HrEgMKi5uUPW']}"
   ]
  },
  {
   "cell_type": "code",
   "execution_count": null,
   "id": "computational-sussex",
   "metadata": {},
   "outputs": [],
   "source": [
    "response =await  hospital3.agent_controller.connections.accept_connection(nhs_invite)\n"
   ]
  },
  {
   "cell_type": "markdown",
   "id": "associate-benefit",
   "metadata": {},
   "source": [
    "## Optional: Configure Research Authentication Policy\n",
    "\n",
    "This is a proof request that the hospital will automatically challenge the researcher for"
   ]
  },
  {
   "cell_type": "code",
   "execution_count": 5,
   "id": "central-oxide",
   "metadata": {},
   "outputs": [],
   "source": [
    "schema_id = \"FWyJ74b38bCF1QbYF7tWMM:2:Authorised Research:0.0.1\"\n",
    "# cred_def = \"WfntKNFwXMQfgmU9ofbxPM:3:CL:156569:default\"\n",
    "\n",
    "revocation = False\n",
    "exchange_tracing = False\n",
    "\n",
    "#Enable this to ask for attributes to identity a user\n",
    "#TODO - change restriction to schemaId or credentialId\n",
    "\n",
    "req_attrs = [\n",
    "    {\"name\": \"scope\", \"restrictions\": [{\"schema_id\": schema_id}]},#, \"cred_def_id\": cred_def}]},\n",
    "]\n",
    "\n",
    "global indy_proof_request\n",
    "indy_proof_request = {\n",
    "    \"name\": \"Proof of Hospital\",\n",
    "    \"version\": \"1.0\",\n",
    "    \"requested_attributes\": {\n",
    "        f\"0_{req_attr['name']}_uuid\":\n",
    "        req_attr for req_attr in req_attrs\n",
    "    },\n",
    "    \"requested_predicates\": {\n",
    "#         f\"0_{req_pred['name']}_GE_uuid\":\n",
    "#         req_pred for req_pred in req_preds\n",
    "    },\n",
    "}\n"
   ]
  },
  {
   "cell_type": "code",
   "execution_count": 6,
   "id": "sharing-little",
   "metadata": {},
   "outputs": [],
   "source": [
    "hospital3.set_authentication_policy(indy_proof_request)"
   ]
  },
  {
   "cell_type": "markdown",
   "id": "hourly-moderator",
   "metadata": {},
   "source": [
    "## Copy from Researcher"
   ]
  },
  {
   "cell_type": "code",
   "execution_count": 7,
   "id": "linear-american",
   "metadata": {},
   "outputs": [],
   "source": [
    "research_invite = {\"@type\": \"did:sov:BzCbsNYhMrjHiqZDTUASHg;spec/connections/1.0/invitation\", \"@id\": \"e3165dfa-535e-4004-a64d-46b3eed5c90f\", \"serviceEndpoint\": \"http://172.17.0.1:8040\", \"label\": \"Health Researcher\", \"recipientKeys\": [\"AWeZ4ZRfZnEHwhxHFFxJWE2JkdVmw9CCRnWDRSWVH2nF\"]}"
   ]
  },
  {
   "cell_type": "code",
   "execution_count": 8,
   "id": "actual-zoning",
   "metadata": {},
   "outputs": [
    {
     "name": "stdout",
     "output_type": "stream",
     "text": [
      "Connection Handler Called\n",
      "Connection 397e87d4-a1d3-4e76-965d-6b2e6b9d6edb in State invitation\n",
      "Connection Handler Called\n",
      "Connection 397e87d4-a1d3-4e76-965d-6b2e6b9d6edb in State request\n",
      "Establishing connection\n",
      "Connection Handler Called\n",
      "Connection 397e87d4-a1d3-4e76-965d-6b2e6b9d6edb in State response\n",
      "Connection Handler Called\n",
      "Connection 397e87d4-a1d3-4e76-965d-6b2e6b9d6edb in State active\n",
      "Pending connection moved to active. Challenging with auth policy if set\n",
      "Handle present proof\n",
      "Role verifier, Exchange 41eaf683-2c23-43c9-9820-91a94df5667c in state request_sent\n",
      "Handle present proof\n",
      "Role prover, Exchange 45363bc0-15d5-410c-b760-dbf850ed772a in state request_received\n",
      "Received Authentication Challenge\n",
      "Credentials [{'cred_info': {'referent': 'NHS Hosptial c5587b49-a6cc-47d3-bab3-fcf03a81d7d6', 'attrs': {'name': 'St Johns Hospital'}, 'schema_id': 'BvRKFu1fdzGdJzQcKb8e8p:2:NHS Hosptial:0.0.1', 'cred_def_id': 'RiUq77qGfmFmAHxj1NQcSY:3:CL:156569:default', 'rev_reg_id': None, 'cred_rev_id': None}, 'interval': None, 'presentation_referents': ['0_name_uuid']}]\n",
      "Revealed Credential {'cred_info': {'referent': 'NHS Hosptial c5587b49-a6cc-47d3-bab3-fcf03a81d7d6', 'attrs': {'name': 'St Johns Hospital'}, 'schema_id': 'BvRKFu1fdzGdJzQcKb8e8p:2:NHS Hosptial:0.0.1', 'cred_def_id': 'RiUq77qGfmFmAHxj1NQcSY:3:CL:156569:default', 'rev_reg_id': None, 'cred_rev_id': None}, 'interval': None, 'presentation_referents': ['0_name_uuid']}\n",
      "\n",
      "Generate the proof\n",
      "{'requested_predicates': {}, 'requested_attributes': {'0_name_uuid': {'cred_id': 'NHS Hosptial c5587b49-a6cc-47d3-bab3-fcf03a81d7d6', 'revealed': True}}, 'self_attested_attributes': {}}\n",
      "\n",
      "XXX\n",
      "{}\n",
      "{'0_name_uuid': {'cred_id': 'NHS Hosptial c5587b49-a6cc-47d3-bab3-fcf03a81d7d6', 'revealed': True}}\n",
      "{}\n",
      "Handle present proof\n",
      "Role verifier, Exchange 41eaf683-2c23-43c9-9820-91a94df5667c in state presentation_received\n",
      "Verifying DataOwner Presentation\n",
      "Handle present proof\n",
      "Role prover, Exchange 45363bc0-15d5-410c-b760-dbf850ed772a in state presentation_sent\n",
      "Handle present proof\n",
      "Role verifier, Exchange 41eaf683-2c23-43c9-9820-91a94df5667c in state verified\n",
      "Trusted Research Connection Established - 397e87d4-a1d3-4e76-965d-6b2e6b9d6edb\n",
      "Handle present proof\n",
      "Role prover, Exchange 45363bc0-15d5-410c-b760-dbf850ed772a in state presentation_acked\n",
      "ML Message from 397e87d4-a1d3-4e76-965d-6b2e6b9d6edb\n",
      "Open file\n",
      "learning\n",
      "untrained_model.pt\n",
      "HOSPITAL MODEL LOADED\n",
      "HOSPITAL IS TRAINING\n",
      "loss at epoch  0 :  tensor(0.1346)\n"
     ]
    },
    {
     "name": "stderr",
     "output_type": "stream",
     "text": [
      "/opt/conda/lib/python3.7/site-packages/torch/autograd/__init__.py:132: UserWarning: CUDA initialization: Found no NVIDIA driver on your system. Please check that you have an NVIDIA GPU and installed a driver from http://www.nvidia.com/Download/index.aspx (Triggered internally at  /pytorch/c10/cuda/CUDAFunctions.cpp:100.)\n",
      "  allow_unreachable=True)  # allow_unreachable flag\n"
     ]
    },
    {
     "name": "stdout",
     "output_type": "stream",
     "text": [
      "loss at epoch  5000 :  tensor(0.0933)\n",
      "loss at epoch  10000 :  tensor(0.0910)\n",
      "loss at epoch  15000 :  tensor(0.0896)\n",
      "loss at epoch  20000 :  tensor(0.0885)\n",
      "loss at epoch  25000 :  tensor(0.0875)\n",
      "loss at epoch  30000 :  tensor(0.0866)\n",
      "loss at epoch  35000 :  tensor(0.0858)\n",
      "loss at epoch  40000 :  tensor(0.0853)\n",
      "loss at epoch  45000 :  tensor(0.0848)\n",
      "Learnt \n",
      "Trained file open\n",
      "connection ID 397e87d4-a1d3-4e76-965d-6b2e6b9d6edb\n"
     ]
    }
   ],
   "source": [
    "hospital3.establish_research_connection(research_invite)"
   ]
  },
  {
   "cell_type": "code",
   "execution_count": null,
   "id": "supposed-guard",
   "metadata": {},
   "outputs": [],
   "source": []
  }
 ],
 "metadata": {
  "kernelspec": {
   "display_name": "Python 3",
   "language": "python",
   "name": "python3"
  },
  "language_info": {
   "codemirror_mode": {
    "name": "ipython",
    "version": 3
   },
   "file_extension": ".py",
   "mimetype": "text/x-python",
   "name": "python",
   "nbconvert_exporter": "python",
   "pygments_lexer": "ipython3",
   "version": "3.7.6"
  }
 },
 "nbformat": 4,
 "nbformat_minor": 5
}
