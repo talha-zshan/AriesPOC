{
 "cells": [
  {
   "cell_type": "markdown",
   "metadata": {
    "collapsed": true
   },
   "source": [
    "# Issue GMC Registation Credentials to Doctors\n",
    "\n",
    "## Before running through this notebook you should have configured the GMC agent in [Part 3.1 - Initialising the GMC Agent](http://localhost:8890/notebooks/Part%203.1%20-%20Initialising%20the%20GMC%20Agent.ipynb).\n",
    "\n",
    "In this notebook you will connect to the GMC, prove you have a medical qualification and receive a GMC Registration credential."
   ]
  },
  {
   "cell_type": "markdown",
   "metadata": {},
   "source": [
    "## 1. Initialise a controller for the GMC"
   ]
  },
  {
   "cell_type": "code",
   "execution_count": null,
   "metadata": {},
   "outputs": [],
   "source": [
    "%autoawait\n",
    "import time\n",
    "import asyncio\n",
    "from termcolor import colored,cprint\n",
    "\n",
    "from aries_basic_controller.aries_controller import AriesAgentController\n",
    "    \n",
    "ADMIN_URL = \"http://gmc-agent:8031\"\n",
    "\n",
    "# Based on the aca-py agent you wish to control\n",
    "agent_controller = AriesAgentController(admin_url=ADMIN_URL)\n",
    "\n",
    "WEBHOOK_HOST = \"0.0.0.0\"\n",
    "WEBHOOK_BASE = \"\"\n",
    "\n",
    "WEBHOOK_PORT = 8032\n",
    "agent_controller.init_webhook_server(webhook_host=WEBHOOK_HOST, webhook_port=WEBHOOK_PORT,\n",
    "                                       webhook_base=WEBHOOK_BASE)\n",
    "    "
   ]
  },
  {
   "cell_type": "markdown",
   "metadata": {},
   "source": [
    "## 2. Register Listeners\n",
    "\n",
    "The handler should get called every time the controller receives a webhook with the topic issue_credential, printing out the payload. The agent calls to this webhook every time it receives an issue-credential protocol message from a credential."
   ]
  },
  {
   "cell_type": "code",
   "execution_count": null,
   "metadata": {},
   "outputs": [],
   "source": [
    "loop = asyncio.get_event_loop()\n",
    "loop.create_task(agent_controller.listen_webhooks())\n",
    "\n",
    "def cred_handler(payload):\n",
    "    print(\"Handle Credentials\")\n",
    "    exchange_id = payload['credential_exchange_id']\n",
    "    state = payload['state']\n",
    "    role = payload['role']\n",
    "    attributes = payload['credential_proposal_dict']['credential_proposal']['attributes']\n",
    "    print(f\"Credential exchange {exchange_id}, role: {role}, state: {state}\")\n",
    "    print(f\"Offering: {attributes}\")\n",
    "    \n",
    "cred_listener = {\n",
    "    \"topic\": \"issue_credential\",\n",
    "    \"handler\": cred_handler\n",
    "}\n",
    "\n",
    "def connections_handler(payload):\n",
    "    global STATE\n",
    "    connection_id = payload[\"connection_id\"]\n",
    "    print(\"Connection message\", payload, connection_id)\n",
    "    STATE = payload['state']\n",
    "    if STATE == 'active':\n",
    "#         print('Connection {0} changed state to active'.format(connection_id))\n",
    "        print(colored(\"Connection {0} changed state to active\".format(connection_id), \"red\", attrs=[\"bold\"]))\n",
    "\n",
    "\n",
    "connection_listener = {\n",
    "    \"handler\": connections_handler,\n",
    "    \"topic\": \"connections\"\n",
    "}\n",
    "\n",
    "agent_controller.register_listeners([cred_listener,connection_listener], defaults=True)\n"
   ]
  },
  {
   "cell_type": "markdown",
   "metadata": {},
   "source": [
    "## 7. Download Identity Holder Mobile SSI Wallet\n",
    "Please download a mobile SSI wallet such as [Connect.me](https://connect.me/), [Trinsic](https://trinsic.id/trinsic-wallet/) or any other Aries compatible wallet."
   ]
  },
  {
   "cell_type": "markdown",
   "metadata": {},
   "source": [
    "## 8. Create a connection invitation to scan with the Mobile SSI Wallet\n",
    "\n",
    "To make a connection with an identity holders wallet we must create a connection invitation and present the QR code to be scanned by the identity holders wallet. The identity holder scan this QR code and then communicate back to the agent through the exposed ngrok endpoint.\n",
    "\n",
    "Once a connection is in an active state, the agent and the identity holders mobile wallet now have a secure pairwise relationship over which they can exchange verifiable credentials."
   ]
  },
  {
   "cell_type": "markdown",
   "metadata": {},
   "source": [
    "## 8a. Create an Invitation"
   ]
  },
  {
   "cell_type": "code",
   "execution_count": null,
   "metadata": {},
   "outputs": [],
   "source": [
    "# Create Invitation\n",
    "invite = await agent_controller.connections.create_invitation()\n",
    "connection_id = invite[\"connection_id\"]\n",
    "print(\"Connection ID\", connection_id)\n",
    "print(\"Invitation\")\n",
    "print(invite['invitation_url'])\n",
    "inviteURL = invite['invitation_url']"
   ]
  },
  {
   "cell_type": "markdown",
   "metadata": {},
   "source": [
    "## 8b. Generate QR Code to be scanned with Mobile SSI Wallet"
   ]
  },
  {
   "cell_type": "code",
   "execution_count": null,
   "metadata": {},
   "outputs": [],
   "source": [
    "import qrcode\n",
    "# Link for connection invitation\n",
    "input_data = inviteURL\n",
    "# Creating an instance of qrcode\n",
    "qr = qrcode.QRCode(\n",
    "        version=1,\n",
    "        box_size=10,\n",
    "        border=5)\n",
    "qr.add_data(input_data)\n",
    "qr.make(fit=True)\n",
    "img = qr.make_image(fill='black', back_color='white')\n",
    "img.save('issuer_agent_invite_QRcode.png')\n",
    "\n",
    "from IPython.display import Image\n",
    "Image(width=400, filename='./issuer_agent_invite_QRcode.png')"
   ]
  },
  {
   "cell_type": "markdown",
   "metadata": {},
   "source": [
    "## 3c. Check if established connection is in active state"
   ]
  },
  {
   "cell_type": "code",
   "execution_count": null,
   "metadata": {},
   "outputs": [],
   "source": [
    "import time\n",
    "\n",
    "# print('Current state for ConnectionId {} is {}'.format(connection_id,STATE))\n",
    "print(colored(\"Current state for ConnectionId {} is {}\".format(connection_id,STATE), \"magenta\", attrs=[\"bold\"]))\n",
    "while STATE != 'active':\n",
    "#     print('ConnectionId {0} is not in active state yet'.format(connection_id))\n",
    "    print(colored(\"ConnectionId {0} is not in active state yet\".format(connection_id), \"yellow\", attrs=[\"bold\"]))\n",
    "    trust_ping = await agent_controller.messaging.trust_ping(connection_id,'hello!')\n",
    "#     print('Trust ping send to ConnectionId {0} to activate connection'.format(trust_ping))\n",
    "    print(colored(\"Trust ping send to ConnectionId {0} to activate connection\".format(trust_ping), \"blue\", attrs=[\"bold\"]))\n",
    "    time.sleep(5)\n",
    "    \n",
    "# print('ConnectionId: {0} is now active. Continue with notebook'.format(connection_id))\n",
    "print(colored(\"ConnectionId: {0} is now active. Continue with notebook\".format(connection_id), \"green\", attrs=[\"bold\"]))\n"
   ]
  },
  {
   "cell_type": "markdown",
   "metadata": {},
   "source": [
    "### 3d. Retrieve stored cred_def_id and schema_id\n"
   ]
  },
  {
   "cell_type": "code",
   "execution_count": null,
   "metadata": {},
   "outputs": [],
   "source": [
    "%store -r cred_def_id\n",
    "%store -r schema_id\n",
    "print(schema_id)\n",
    "print(cred_def_id)"
   ]
  },
  {
   "cell_type": "markdown",
   "metadata": {},
   "source": [
    "## 4. Send proof request(s) to populate credentials"
   ]
  },
  {
   "cell_type": "markdown",
   "metadata": {},
   "source": [
    "## 4a. Generate proof request"
   ]
  },
  {
   "cell_type": "code",
   "execution_count": null,
   "metadata": {},
   "outputs": [],
   "source": [
    "# schema_id = 'EuEtnVakYFyBtGFT1nHYtH:2:SSI PyDentity Tutorial:0.0.1'\n",
    "\n",
    "# print(\"Request proof of Fullname and Age range from Identity Holder\")\n",
    "# #Set some variables\n",
    "\n",
    "# revocation = False\n",
    "# SELF_ATTESTED = True\n",
    "# exchange_tracing = False\n",
    "\n",
    "# #Enable this to ask for attributes to identity a user\n",
    "# #TODO - change restriction to schemaId or credentialId\n",
    "\n",
    "# req_attrs = [\n",
    "#     {\"name\": \"fullname\", \"restrictions\": [{\"schema_id\": schema_id}]},\n",
    "#     {\"name\": \"skill\", \"restrictions\": [{\"schema_id\": schema_id}]},\n",
    "# ]\n",
    "\n",
    "# if revocation:\n",
    "#     req_attrs.append(\n",
    "#         {\n",
    "#             \"name\": \"skill\",\n",
    "#             \"restrictions\": [{\"schema_id\": schema_id}],\n",
    "#             \"non_revoked\": {\"to\": int(time.time() - 1)},\n",
    "#         },\n",
    "#     )\n",
    "\n",
    "# if SELF_ATTESTED:\n",
    "#     # test self-attested claims\n",
    "#     req_attrs.append({\"name\": \"country\"},)\n",
    "\n",
    "# #Set predicates for Zero Knowledge Proofs\n",
    "# req_preds = [\n",
    "#     # test zero-knowledge proofs\n",
    "#     {\n",
    "#         \"name\": \"age\",\n",
    "#         \"p_type\": \">=\",\n",
    "#         \"p_value\": 21,\n",
    "#         \"restrictions\": [{\"schema_id\": schema_id}],\n",
    "#     }\n",
    "# ]\n",
    "\n",
    "# indy_proof_request = {\n",
    "#     \"name\": \"Proof of Completion of PyDentity SSI Tutorial\",\n",
    "#     \"version\": \"1.0\",\n",
    "#     \"requested_attributes\": {\n",
    "#         f\"0_{req_attr['name']}_uuid\":\n",
    "#         req_attr for req_attr in req_attrs\n",
    "#     },\n",
    "#     \"requested_predicates\": {\n",
    "#         f\"0_{req_pred['name']}_GE_uuid\":\n",
    "#         req_pred for req_pred in req_preds\n",
    "#     },\n",
    "# }\n",
    "\n",
    "# if revocation:\n",
    "#     indy_proof_request[\"non_revoked\"] = {\"to\": int(time.time())}\n",
    "\n",
    "# #proof_request = indy_proof_request\n",
    "# exchange_tracing_id = exchange_tracing\n",
    "# proof_request_web_request = {\n",
    "#     \"connection_id\": connection_id,\n",
    "#     \"proof_request\": indy_proof_request,\n",
    "#     \"trace\": exchange_tracing,\n",
    "# }"
   ]
  },
  {
   "cell_type": "code",
   "execution_count": null,
   "metadata": {},
   "outputs": [],
   "source": [
    "print(schema_id)\n",
    "print(cred_def_id)\n",
    "\n",
    "# {\n",
    "#        \"attrNames\":[\n",
    "#            \"PSS Passport No\",\n",
    "#            \"PSS Surname\",\n",
    "#            \"PSS Given Names\",\n",
    "#            \"PSS Nationality\",\n",
    "#            \"PSS Date of Birth\",\n",
    "#            \"PSS Sex\",\n",
    "#            \"PSS Place of Birth\",\n",
    "#            \"PSS Date of Issue\",\n",
    "#            \"PSS IssuingAuthority\",\n",
    "#            \"PSS Date Of Expiry\",\n",
    "#            \"PSS Photograph\",\n",
    "#            \"PSS Signature\"\n",
    "#        ],\n",
    "#        \"name\":\"Passport Details\",\n",
    "#        \"version\":\"0.0.1\"\n",
    "# }\n",
    "\n",
    "# {\n",
    "#        \"attrNames\":[\n",
    "#            \"MDQ Primary Medical Qual\",\n",
    "#            \"MDQ Issuing Institution\",\n",
    "#            \"MDQ Surname\",\n",
    "#            \"MDQ Given Names\",\n",
    "#            \"MDQ Issue Date\"\n",
    "#        ],\n",
    "#        \"name\":\"Medical Qual\",\n",
    "#        \"version\":\"0.0.1\"\n",
    "# }\n",
    "\n",
    "\n",
    "print(\"Request proof of Passport and Medical School information\")\n",
    "\n",
    "#Set some variables\n",
    "\n",
    "REVOCATION = False\n",
    "SELF_ATTESTED = False\n",
    "EXCHANGE_TRACING = False\n",
    "\n",
    "req_attrs = [\n",
    "    {\"name\": \"PSS Given Names\", \"restrictions\": []},\n",
    "    {\"name\": \"PSS Surname\", \"restrictions\": []},\n",
    "    {\"name\": \"PSS Sex\", \"restrictions\": []},\n",
    "    {\"name\": \"MDQ Primary Medical Qual\", \"restrictions\": []},\n",
    "]\n",
    "\n",
    "if REVOCATION:\n",
    "    req_attrs.append(\n",
    "        {\n",
    "            \"name\": \"skill\",\n",
    "            \"restrictions\": [{\"schema_id\": schema_id}],\n",
    "            \"non_revoked\": {\"to\": int(time.time() - 1)},\n",
    "        },\n",
    "    )\n",
    "\n",
    "if SELF_ATTESTED:\n",
    "    # test self-attested claims\n",
    "    req_attrs.append({\"name\": \"country\"},)\n",
    "\n",
    "#Set predicates for Zero Knowledge Proofs\n",
    "req_preds = []\n",
    "\n",
    "indy_proof_request = {\n",
    "    \"name\": \"Proof of Passport Credential\",\n",
    "    \"version\": \"1.0\",\n",
    "    \"requested_attributes\": {\n",
    "        f\"0_{req_attr['name']}_uuid\":\n",
    "        req_attr for req_attr in req_attrs\n",
    "    },\n",
    "    \"requested_predicates\": {\n",
    "        f\"0_{req_pred['name']}_GE_uuid\":\n",
    "        req_pred for req_pred in req_preds\n",
    "    },\n",
    "}\n",
    "\n",
    "if REVOCATION:\n",
    "    indy_proof_request[\"non_revoked\"] = {\"to\": int(time.time())}\n",
    "\n",
    "#proof_request = indy_proof_request\n",
    "exchange_tracing_id = EXCHANGE_TRACING\n",
    "proof_request_web_request = {\n",
    "    \"connection_id\": connection_id,\n",
    "    \"proof_request\": indy_proof_request,\n",
    "    \"trace\": EXCHANGE_TRACING,\n",
    "}"
   ]
  },
  {
   "cell_type": "markdown",
   "metadata": {},
   "source": [
    "### 4b. Send the proof request to Doctor\n",
    "\n",
    "Doctor is identified through the connection_id"
   ]
  },
  {
   "cell_type": "code",
   "execution_count": null,
   "metadata": {},
   "outputs": [],
   "source": [
    "response = await agent_controller.proofs.send_request(proof_request_web_request)\n",
    "print(response)\n",
    "presentation_exchange_id = response['presentation_exchange_id']\n",
    "print(\"\\n\")\n",
    "print(presentation_exchange_id)"
   ]
  },
  {
   "cell_type": "markdown",
   "metadata": {},
   "source": [
    "## 4c. Verify proof presentation and populate credential template\n",
    "\n",
    "This is checking the signatures on the credentials presented against the credential schema and definition id stored and resolvable on the ledger. It is a bit of a big complicated object, so we show the common pattern for breaking it down, checking it's verified and accessing the data that has been presented."
   ]
  },
  {
   "cell_type": "code",
   "execution_count": null,
   "metadata": {},
   "outputs": [],
   "source": [
    "verify = await agent_controller.proofs.verify_presentation(presentation_exchange_id)\n",
    "\n",
    "# print proof request verification status\n",
    "print('Proof request state verified?: {} '.format(verify['state'] == 'verified'))\n"
   ]
  },
  {
   "cell_type": "code",
   "execution_count": null,
   "metadata": {},
   "outputs": [],
   "source": [
    "# access the revealed attributes and populate credential\n",
    "credential_attributes = []\n",
    "for (name, val) in verify['presentation']['requested_proof']['revealed_attrs'].items():\n",
    "    ## This is the actual data that you want. It's a little hidden\n",
    "    print('Atribute name: GMC {} Value: {}'.format(name[6:-5],val['raw']))\n",
    "    credential_attributes.append({\"name\": \"GMC \" + name[6:-5], \"value\": val['raw']})\n",
    "    \n",
    "credential_attributes[0]['name'] = \"GMC Given Name\"\n",
    "credential_attributes[1]['name'] = \"GMC Primary Medical Qual\"\n",
    "credential_attributes[2]['name'] = 'GMC Gender'\n",
    "credential_attributes[3]['name'] = \"GMC Surname\""
   ]
  },
  {
   "cell_type": "code",
   "execution_count": null,
   "metadata": {},
   "outputs": [],
   "source": [
    "print(credential_attributes)"
   ]
  },
  {
   "cell_type": "code",
   "execution_count": null,
   "metadata": {},
   "outputs": [],
   "source": [
    "# reg_status = input(\"Please enter your reg_status\")\n",
    "# ftp_status = input(\"Please enter your FTP status\")\n",
    "# medical_qual = input(\"Please enter your primary medical qualification\")\n",
    "# prov_reg_date =(\"Please enter your provisional registration date\")\n",
    "# full_reg_date =(\"Please enter your full reg date\")\n",
    "# spec_register_status =(\"Please enter your Spec. register status\")\n",
    "# primary_speciality =(\"Please enter your primary speciality\")\n",
    "# gp_register_status =(\"Please enter your gp register status\")\n",
    "# gp_register_date =(\"Please enter your gp register date\")\n",
    "# revalidation_status =(\"Please enter your revalidation status\")\n",
    "# training_information =(\"Please enter your training information\")\n",
    "# designated_body =(\"Please enter your designated body\")\n",
    "# responsible_officer =(\"Please enter your Responsible Officer\")"
   ]
  },
  {
   "cell_type": "code",
   "execution_count": null,
   "metadata": {},
   "outputs": [],
   "source": [
    "# credential_attributes = [\n",
    "#     {\"name\": \"GMC Reference Number\", \"value\": reference_number},\n",
    "#     {\"name\": \"GMC Given Name\", \"value\": name},\n",
    "#     {\"name\": \"GMC Surname\", \"value\": surname},\n",
    "#     {\"name\":\"GMC Gender\", \"value\": gender},\n",
    "#     {\"name\":\"GMC Reg Status\", \"value\": \"Active\"},\n",
    "#     {\"name\":\"GMC FTP Status\", \"value\": \"Active\"},\n",
    "#     {\"name\":\"GMC Primary Medical Qual\", \"value\":\"Paediatrition\"},\n",
    "#     {\"name\":\"GMC Prov Reg Date\", \"value\":\"00/00/00\"},\n",
    "#     {\"name\":\"GMC Full Reg Date\", \"value\":\"00/00/00\"},\n",
    "#     {\"name\":\"GMC Spec. Register Status\", \"value\":\"Active\"},\n",
    "#     {\"name\":\"GMC Primary Specialty\", \"value\":\"Paediatrics\"},\n",
    "#     {\"name\":\"GMC GP Register Status\", \"value\":\"Active\"},\n",
    "#     {\"name\":\"GMC GP Register Date\", \"value\":\"00/00/00\"},\n",
    "#     {\"name\":\"GMC Revalidation Status\", \"value\":\"Active\"},\n",
    "#     {\"name\":\"GMC Training Information\", \"value\":\"Stage 1\"},\n",
    "#     {\"name\":\"GMC Designated Body\", \"value\":\"NHS\"},\n",
    "#     {\"name\":\"GMC Responsible Officer\", \"value\":\"Head Doctor\"}"
   ]
  },
  {
   "cell_type": "markdown",
   "metadata": {},
   "source": [
    "## 5. Populate the GMC Registration attributes"
   ]
  },
  {
   "cell_type": "code",
   "execution_count": null,
   "metadata": {},
   "outputs": [],
   "source": [
    "reference_number=input(\"Please enter your reference number: \")\n",
    "name=input(\"Please enter your name \")\n",
    "# surname = input(\"Please enter your surname\")\n",
    "# gender = input(\"Please enter your gender\")\n",
    "reg_status = input(\"Please enter your reg_status\")\n",
    "ftp_status = input(\"Please enter your FTP status\")\n",
    "# medical_qual = input(\"Please enter your primary medical qualification\")\n",
    "prov_reg_date =input(\"Please enter your provisional registration date\")\n",
    "full_reg_date =input(\"Please enter your full reg date\")\n",
    "spec_register_status =input(\"Please enter your Spec. register status\")\n",
    "primary_speciality =input(\"Please enter your primary speciality\")\n",
    "gp_register_status =input(\"Please enter your gp register status\")\n",
    "gp_register_date =input(\"Please enter your gp register date\")\n",
    "revalidation_status =input(\"Please enter your revalidation status\")\n",
    "training_information =input(\"Please enter your training information\")\n",
    "designated_body =input(\"Please enter your designated body\")\n",
    "responsible_officer =input(\"Please enter your Responsible Officer\")\n",
    "credential_attributes.append({\"name\":\"GMC Reference Number\",\"value\":reference_number})\n",
    "credential_attributes.append({\"name\":\"GMC Reg Status\", \"value\": reg_status})\n",
    "credential_attributes.append({\"name\":\"GMC FTP Status\", \"value\": ftp_status}),\n",
    "credential_attributes.append({\"name\":\"GMC Prov Reg Date\", \"value\":prov_reg_date})\n",
    "credential_attributes.append({\"name\":\"GMC Full Reg Date\", \"value\":full_reg_date})\n",
    "credential_attributes.append({\"name\":\"GMC Spec. Register Status\", \"value\":spec_register_status})\n",
    "credential_attributes.append({\"name\":\"GMC Primary Specialty\", \"value\":primary_speciality})\n",
    "credential_attributes.append({\"name\":\"GMC GP Register Status\", \"value\":gp_register_status})\n",
    "credential_attributes.append({\"name\":\"GMC GP Register Date\", \"value\":gp_register_date})\n",
    "credential_attributes.append({\"name\":\"GMC Revalidation Status\", \"value\":revalidation_status })\n",
    "credential_attributes.append({\"name\":\"GMC Training Information\", \"value\":training_information})\n",
    "credential_attributes.append({\"name\":\"GMC Designated Body\", \"value\":designated_body})\n",
    "credential_attributes.append({\"name\":\"GMC Responsible Officer\", \"value\":responsible_officer})\n",
    "    \n",
    "    \n",
    "\n",
    "print(credential_attributes)"
   ]
  },
  {
   "cell_type": "markdown",
   "metadata": {},
   "source": [
    "# 6. Send Credential\n",
    "\n",
    "This sends a credential to a identity holder (User), and automates the rest of the protocol.\n",
    "\n",
    "There are other ways to issue a credential that require multiple api calls.\n",
    "\n",
    "**Arguments**\n",
    "* connection_id: The connection_id of the holder you wish to issue to (MUST be in active state)\n",
    "* schema_id: The id of the schema you wish to issue\n",
    "* cred_def_id: The definition (public key) to sign the credential object. This must refer to the schema_id and be written to the ledger by the same public did that is currently being used by the agent.\n",
    "* attributes: A list of attribute objects as defined above. Must match the schema attributes.\n",
    "* comment (optional): Any string, defaults to \"\"\n",
    "* auto_remove (optional): Boolean, defaults to True. I believe this removes the record of this credential once it has been issued. (TODO: double check)\n",
    "* trace (optional): Boolean, defaults to False. **Not entirely sure about this one, believe its for logging. Also when set to True it throws an error**"
   ]
  },
  {
   "cell_type": "code",
   "execution_count": null,
   "metadata": {},
   "outputs": [],
   "source": [
    "record = await agent_controller.issuer.send_credential(connection_id, schema_id, cred_def_id, credential_attributes, trace=False)\n",
    "record_id = record['credential_exchange_id']\n",
    "state = record['state']\n",
    "role = record['role']\n",
    "print(f\"Credential exchange {record_id}, role: {role}, state: {state}\")\n"
   ]
  },
  {
   "cell_type": "markdown",
   "metadata": {},
   "source": [
    "## 7. Accept credential in Mobile SSI Wallet"
   ]
  },
  {
   "cell_type": "markdown",
   "metadata": {},
   "source": [
    "## 8. End of Tutorial\n",
    "\n",
    "Be sure to terminate the controller so you can run another tutorial."
   ]
  },
  {
   "cell_type": "code",
   "execution_count": null,
   "metadata": {},
   "outputs": [],
   "source": [
    "response = await agent_controller.terminate()\n",
    "print(response)"
   ]
  },
  {
   "cell_type": "markdown",
   "metadata": {},
   "source": [
    "# Congratulations you are now a licenced doctor. Proceed to the [Health Education England](http://localhost:8891/tree?) to receive your training.\n",
    "\n",
    "You can get the notebook access token by running this in the terminal `docker logs  doctors-in-training_hee-notebook_1\n",
    "`"
   ]
  },
  {
   "cell_type": "code",
   "execution_count": null,
   "metadata": {},
   "outputs": [],
   "source": []
  }
 ],
 "metadata": {
  "kernelspec": {
   "display_name": "Python 3",
   "language": "python",
   "name": "python3"
  },
  "language_info": {
   "codemirror_mode": {
    "name": "ipython",
    "version": 3
   },
   "file_extension": ".py",
   "mimetype": "text/x-python",
   "name": "python",
   "nbconvert_exporter": "python",
   "pygments_lexer": "ipython3",
   "version": "3.7.6"
  },
  "pycharm": {
   "stem_cell": {
    "cell_type": "raw",
    "source": [],
    "metadata": {
     "collapsed": false
    }
   }
  }
 },
 "nbformat": 4,
 "nbformat_minor": 1
}