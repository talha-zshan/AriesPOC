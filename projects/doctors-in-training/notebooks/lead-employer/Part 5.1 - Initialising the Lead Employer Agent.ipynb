{
 "cells": [
  {
   "cell_type": "markdown",
   "metadata": {},
   "source": [
    "# Initialising the Lead Employer Agent\n",
    "\n",
    "## If you wish to start at the beginning of the Doctor's in Training flow go [here](http://localhost:8889/lab/tree/Part%201%20-%20Getting%20Started.ipynb).\n",
    "\n",
    "In this notebook you will register the DID of the Lead Employer agent on the Sovrin StagingNet and write the credential definitions for the schema the Lead Employer is responsible for issuing.\n",
    "\n",
    "There are:\n",
    "* Occupational Health (Vaccination): Schema_id - [2yWoMSfeTtYBFpUJFcnpqL:2:Occupational Health:0.0.1](https://indyscan.io/tx/SOVRIN_STAGINGNET/domain/141273)\n",
    "* Mandatory Training Credential: Schema_id - [2yWoMSfeTtYBFpUJFcnpqL:2:mandatoryTrainingCredential:0.0.1](https://indyscan.io/tx/SOVRIN_STAGINGNET/domain/141271)\n",
    "* DBS Check: Schema id - [2yWoMSfeTtYBFpUJFcnpqL:2:DBS Criminal Record Check:0.0.1](https://indyscan.io/tx/SOVRIN_STAGINGNET/domain/141274)\n",
    "* Lead Employer Assignments: Schema id - [2yWoMSfeTtYBFpUJFcnpqL:2:Lead Employer Assignment:0.0.1](https://indyscan.io/tx/SOVRIN_STAGINGNET/domain/141275)\n"
   ]
  },
  {
   "cell_type": "markdown",
   "metadata": {},
   "source": [
    "## 1. Initialise a controller for Lead Employer Agent"
   ]
  },
  {
   "cell_type": "code",
   "execution_count": null,
   "metadata": {},
   "outputs": [],
   "source": [
    "%autoawait\n",
    "import time\n",
    "import asyncio\n",
    "from aries_basic_controller.aries_controller import AriesAgentController\n",
    "    \n",
    "ADMIN_URL = \"http://lead-employer-agent:8061\"\n",
    "\n",
    "\n",
    "\n",
    "# Based on the aca-py agent you wish to control\n",
    "agent_controller = AriesAgentController(admin_url=ADMIN_URL)"
   ]
  },
  {
   "cell_type": "markdown",
   "metadata": {},
   "source": [
    "## 2. Get current public DID\n",
    "\n",
    "Before being able to write to any indy based ledger, your agent must have a public DID written on the ledger giving it the authority to write to it. As the cell below shows, this agent does not currently have a public DID. So any writes to the ledger will be rejected."
   ]
  },
  {
   "cell_type": "code",
   "execution_count": null,
   "metadata": {},
   "outputs": [],
   "source": [
    "response = await agent_controller.wallet.get_public_did()\n",
    "print(response)"
   ]
  },
  {
   "cell_type": "markdown",
   "metadata": {},
   "source": [
    "## 3. Generate a new DID\n",
    "\n",
    "Before being able to write a DID to the ledger, you must create one using the wallet api. This api returns the identifier (the DID), and the verification key for that DID. A representation of it's public key. "
   ]
  },
  {
   "cell_type": "code",
   "execution_count": null,
   "metadata": {},
   "outputs": [],
   "source": [
    "# generate new DID\n",
    "response = await agent_controller.wallet.create_did()\n",
    "\n",
    "did_object = response['result']\n",
    "print(\"New DID\", did_object)"
   ]
  },
  {
   "cell_type": "markdown",
   "metadata": {},
   "source": [
    "## 4. Write DID to Sovrin Stagingnet\n",
    "\n",
    "Anoyone can write a DID to the Sovrin StagingNet, it is a permissionless ledger. \n",
    "\n",
    "Visit [Sovrin Selfserve Portal](https://selfserve.sovrin.org) for more information. We have provided an automated process to write DIDs to Stagingnet in the step below."
   ]
  },
  {
   "cell_type": "code",
   "execution_count": null,
   "metadata": {},
   "outputs": [],
   "source": [
    "# write new DID to Sovrin Stagingnet\n",
    "import requests\n",
    "import json \n",
    "\n",
    "url = 'https://selfserve.sovrin.org/nym'\n",
    "\n",
    "payload = {\"network\":\"stagingnet\",\"did\": did_object[\"did\"],\"verkey\":did_object[\"verkey\"],\"paymentaddr\":\"\"}\n",
    "\n",
    "# Adding empty header as parameters are being sent in payload\n",
    "headers = {}\n",
    "\n",
    "r = requests.post(url, data=json.dumps(payload), headers=headers)\n",
    "print(r.json())\n",
    "print(r.status_code)"
   ]
  },
  {
   "cell_type": "markdown",
   "metadata": {},
   "source": [
    "## 5. Accepting the Transaction Author Agreement (TAA)\n",
    "\n",
    "Although the Sovrin StagingNet is permissionless, before DID's have the authority to write to the ledger they must accept something called a transaction author agreement by signing it using the DID they have on the ledger.\n",
    "\n",
    "As a global public ledger, the Sovrin Ledger and all its participants are subject to privacy and data protection regulations such as the EU General Data Protection Regulation (GDPR). These regulations require that the participants be explicit about responsibilities for Personal Data.\n",
    "\n",
    "To clarify these responsibilities and provide protection for all parties, the Sovrin Governance Framework Working Group developed an agreement between Transaction Authors and the Sovrin Foundation. The TAA can be found at Sovrin.org. It ensures that users are aware of and consent to the fact that all data written to the Sovrin Ledger cannot be removed, even if the original author of the transaction requests its removal.\n",
    "\n",
    "The TAA outlines the policies that users must follow when interacting with the Sovrin Ledger. When a user’s client software is preparing a transaction for submission to the network, it must include a demonstration that the user had the opportunity to review the current TAA and accept it. This is done by including some additional fields in the ledger write transaction: \n",
    "\n",
    "* A hash of the agreement\n",
    "* A date when the agreement was accepted, and\n",
    "* A string indicating the user interaction that was followed to obtain the acceptance.\n",
    "\n",
    "The Indy client API used by Sovrin has been extended to allow users to review current and past agreements and to indicate acceptance through an approved user interaction pattern. - source: https://sovrin.org/preparing-for-the-sovrin-transaction-author-agreement/\n",
    "\n",
    "For more details on TAA please read more at the following links:\n",
    "* [Preparing for the Sovrin Transaction Author Agreement](https://sovrin.org/preparing-for-the-sovrin-transaction-author-agreement/)\n",
    "* [How the recent approval of the Sovrin Governance Framework v2 affects Transaction Authors\n",
    "](https://sovrin.org/how-the-recent-approval-of-the-sovrin-governance-framework-v2-affects-transaction-authors/)\n",
    "* [TAA v2](https://github.com/sovrin-foundation/sovrin/blob/master/TAA/TAA.md)\n",
    "* [TAA Acceptance Mechanism List (AML)](https://github.com/sovrin-foundation/sovrin/blob/master/TAA/AML.md)"
   ]
  },
  {
   "cell_type": "code",
   "execution_count": null,
   "metadata": {},
   "outputs": [],
   "source": [
    "response = await agent_controller.ledger.get_taa()\n",
    "TAA_text = response['result']['taa_record']['text']\n",
    "TAA_version = response['result']['taa_record']['version']\n",
    "TAA_digest = response['result']['taa_record']['digest']\n",
    "\n",
    "\n",
    "taa_record = {\n",
    "            \"version\": TAA_version,\n",
    "            \"mechanism\": \"service_agreement\",\n",
    "            'text': TAA_text\n",
    "}\n",
    "\n"
   ]
  },
  {
   "cell_type": "code",
   "execution_count": null,
   "metadata": {},
   "outputs": [],
   "source": [
    "response = await agent_controller.ledger.accept_taa(taa_record)\n",
    "## Will return {} if successful\n",
    "print(response)"
   ]
  },
  {
   "cell_type": "markdown",
   "metadata": {},
   "source": [
    "## 6. Set public DID\n",
    "\n",
    "Now you are able to assign the DID written to the ledger as public."
   ]
  },
  {
   "cell_type": "code",
   "execution_count": null,
   "metadata": {},
   "outputs": [],
   "source": [
    "response = await agent_controller.wallet.assign_public_did(did_object[\"did\"])\n",
    "print(response)"
   ]
  },
  {
   "cell_type": "markdown",
   "metadata": {},
   "source": [
    "## 7. Write Credential Definition for the Occupational Health to Ledger\n",
    "\n",
    "The Health Education England must have a credential definition on the ledger to issue this credential.\n",
    "\n"
   ]
  },
  {
   "cell_type": "code",
   "execution_count": null,
   "metadata": {},
   "outputs": [],
   "source": [
    "occ_health_schema_id = \"2yWoMSfeTtYBFpUJFcnpqL:2:Occupational Health:0.0.1\"\n",
    "response = await agent_controller.definitions.write_cred_def(occ_health_schema_id)\n",
    "\n",
    "occ_health_cred_def_id = response[\"credential_definition_id\"]\n",
    "print(occ_health_cred_def_id)\n",
    "\n",
    "%store occ_health_schema_id\n",
    "%store occ_health_cred_def_id"
   ]
  },
  {
   "cell_type": "markdown",
   "metadata": {},
   "source": [
    "## 8. Write Credential Definition for the Mandatory Training to Ledger\n",
    "\n",
    "The Health Education England must have a credential definition on the ledger to issue this credential.\n"
   ]
  },
  {
   "cell_type": "code",
   "execution_count": null,
   "metadata": {},
   "outputs": [],
   "source": [
    "mandatory_training_schema_id = \"2yWoMSfeTtYBFpUJFcnpqL:2:mandatoryTrainingCredential:0.0.1\"\n",
    "response = await agent_controller.definitions.write_cred_def(mandatory_training_schema_id)\n",
    "\n",
    "mandatory_training_cred_def_id = response[\"credential_definition_id\"]\n",
    "print(mandatory_training_cred_def_id)\n",
    "\n",
    "%store mandatory_training_schema_id\n",
    "%store mandatory_training_cred_def_id"
   ]
  },
  {
   "cell_type": "markdown",
   "metadata": {},
   "source": [
    "## 9. Write Credential Definition for the DBS Check schema to Ledger\n",
    "\n",
    "The Health Education England must have a credential definition on the ledger to issue this credential.\n"
   ]
  },
  {
   "cell_type": "code",
   "execution_count": null,
   "metadata": {},
   "outputs": [],
   "source": [
    "dbs_schema_id = \"2yWoMSfeTtYBFpUJFcnpqL:2:DBS Criminal Record Check:0.0.1\"\n",
    "response = await agent_controller.definitions.write_cred_def(dbs_schema_id)\n",
    "dbs_cred_def_id = response[\"credential_definition_id\"]\n",
    "print(dbs_cred_def_id)\n",
    "\n",
    "%store dbs_schema_id\n",
    "%store dbs_cred_def_id"
   ]
  },
  {
   "cell_type": "markdown",
   "metadata": {},
   "source": [
    "## 10. Write a Cred Def for the Lead Employer Assignment Schema"
   ]
  },
  {
   "cell_type": "code",
   "execution_count": null,
   "metadata": {},
   "outputs": [],
   "source": [
    "lead_emp_schema_id = \"2yWoMSfeTtYBFpUJFcnpqL:2:Lead Employer Assignment:0.0.1\"\n",
    "response = await agent_controller.definitions.write_cred_def(lead_emp_schema_id)\n",
    "lead_emp_cred_def_id = response[\"credential_definition_id\"]\n",
    "print(lead_emp_cred_def_id)\n",
    "\n",
    "%store lead_emp_schema_id\n",
    "%store lead_emp_cred_def_id"
   ]
  },
  {
   "cell_type": "markdown",
   "metadata": {},
   "source": [
    "## 12. End of Tutorial\n",
    "\n",
    "Be sure to terminate the controller so you can run another tutorial."
   ]
  },
  {
   "cell_type": "code",
   "execution_count": null,
   "metadata": {},
   "outputs": [],
   "source": [
    "response = await agent_controller.terminate()\n",
    "print(response)"
   ]
  },
  {
   "cell_type": "markdown",
   "metadata": {},
   "source": [
    "# Proceed to [Part 5.2](http://localhost:8892/notebooks/Part%205.2%20-%20Onboard%20a%20Doctor%20in%20Training.ipynb) where you will be able to onboard Doctors in Training into your employ.\n",
    "\n",
    "Typically when developing an SSI application, this configuration only needs to happen once. Then the agent would be ready to issue these credentials to all future doctor interactions.\n"
   ]
  }
 ],
 "metadata": {
  "kernelspec": {
   "display_name": "Python 3",
   "language": "python",
   "name": "python3"
  },
  "language_info": {
   "codemirror_mode": {
    "name": "ipython",
    "version": 3
   },
   "file_extension": ".py",
   "mimetype": "text/x-python",
   "name": "python",
   "nbconvert_exporter": "python",
   "pygments_lexer": "ipython3",
   "version": "3.7.6"
  },
  "pycharm": {
   "stem_cell": {
    "cell_type": "raw",
    "source": [],
    "metadata": {
     "collapsed": false
    }
   }
  }
 },
 "nbformat": 4,
 "nbformat_minor": 4
}