{
 "cells": [
  {
   "cell_type": "markdown",
   "metadata": {},
   "source": [
    "# Doctor's in Training Onboarding Flow"
   ]
  },
  {
   "cell_type": "markdown",
   "metadata": {},
   "source": [
    "If you are new to Self-Sovereign Identity, we recommend running through the aries-basic-controller tutorial series to understand the basics.\n",
    "\n",
    "This series takes you through the full Doctor in Training flow as defined by the INTEROpen hackathon. This takes place across a number of different notebooks, with each notebook representing an entity within the flow. This notebook is the notebook for the ID Verification Service. \n",
    "\n",
    "## In this series **YOU** will play the role of the Doctor, navigating between the different notebooks collecting credentials and presenting proofs as you go. You can use a digital wallet of your choice: Connect.Me, Lissi, ESatus, Trinsic. Just download one from the app store and make sure it is configured to point at the Sovrin StagingNet."
   ]
  },
  {
   "cell_type": "markdown",
   "metadata": {},
   "source": [
    "This series takes you through the following high level steps:\n",
    "1. ID Verification, the doctor receives a passport credential\n",
    "2. Medical Qualification Degree, the doctor passes their degree and receives a digital credentail from their medical school attesting to this.\n",
    "3. Doctor applies to the GMC for a licence and receives a credential from them.\n",
    "4. Doctor applies for a training program with Higher Education England (HEE)\n",
    "5. Doctor connects with their lead employee and presents the relevant credentials\n",
    "6. Doctor rotates to a new Host employer as part of a placement\n"
   ]
  },
  {
   "cell_type": "markdown",
   "metadata": {},
   "source": [
    "## Exposing your agent to the world\n",
    "\n",
    "### Disclaimer regarding the use of ngrok\n",
    "Both compose setups use the ngrok tunneling service to make your agent available to the outside world. One caveat of this, however, is that connections made from your docker agent will expire within 8 hours as a limitation of the ngrok free-tier. Therefore, these setups are intended for demonstration purposes only and should not be relied upon as is for production environments.\n",
    "\n",
    "### What is `ngrok`?\n",
    "Ngrok exposes local servers behind NATs and firewalls to the public internet over secure tunnels.\n",
    "\n",
    "Visit [ngrok](https://ngrok.com/) for more information.\n",
    "\n",
    "### What do we do with ngrok?\n",
    "We use ngrok to expose the issuer and verifier agents to the internet so that SSI Mobile Wallets and other agents on the internet can communicate with our agent running on our local machine across the endpoints we expose using ngrok."
   ]
  },
  {
   "cell_type": "markdown",
   "metadata": {},
   "source": [
    "## Configuring an agent to point to the Sovrin StagingNet\n",
    "\n",
    "The ledger the agent is an important part of the configuration process. An agent will attempt to resolve public DID's, credential definitions and schemas from this location, so if the other agent they interact with is using a different ledger then the verification protocols will no longer work.\n",
    "\n",
    "To configure an agent to use the Sovrin Stagingnet the following is required:\n",
    "* Providing the Sovrin Stagingnet Genesis file URL to the agent during startup with the `--genesis-url` startup parameter for Aca-Py. \n",
    "    * Sovrin Stagingnet genesis URL can be found [here](https://raw.githubusercontent.com/sovrin-foundation/sovrin/master/sovrin/pool_transactions_sandbox_genesis).\n",
    "    * For a complete list of Aca-Py startup parameters please refer to [this](https://github.com/hyperledger/aries-cloudagent-python/blob/25b7a9c08921e67b0962c434102489884ac403b2/aries_cloudagent/config/argparse.py) link.\n",
    "* Ensure that agent is exposed to the internet with `ngrok`\n",
    "\n",
    "Both of these are already taken care off by the `projects/interopen-hack` docker environment.\n"
   ]
  },
  {
   "cell_type": "markdown",
   "metadata": {},
   "source": [
    "## Writing to the Ledger\n",
    "\n",
    "Only agents that intend to **issue credentials are required to write to the ledger**. Before being able to write to the ledger they must control a DID, that is stored on that ledger and has the authority to write. That is, transactions signed by this DID will be accepted by the nodes maintaining consensus within the network.\n",
    "\n",
    "Different ledgers have different rules governing the process of getting a DID written to the ledger with the authority to write - a Pubic DID. As we will see in more detail in the next tutorial the StagingNet is a permissionless ledger but it still requires DID's to sign something called a Transaction Author Agreement (TAA).\n",
    "\n"
   ]
  },
  {
   "cell_type": "markdown",
   "metadata": {},
   "source": [
    "## A list of of the defined schema definitions for the hackathon can be found [here](https://docs.google.com/document/d/1P2UpydroYPrsGQ_nW6uFoziHC_V9LE5ShQD8QM20rb4/edit)"
   ]
  },
  {
   "cell_type": "markdown",
   "metadata": {},
   "source": [
    "## Continue to [Part 1.2 - Initialising the ID Verification Agent](http://localhost:8888/notebooks/Part%201.2%20-%20Initialising%20the%20ID%20Verification%20Agent.ipynb)"
   ]
  },
  {
   "cell_type": "code",
   "execution_count": null,
   "metadata": {},
   "outputs": [],
   "source": []
  }
 ],
 "metadata": {
  "kernelspec": {
   "display_name": "Python 3",
   "language": "python",
   "name": "python3"
  },
  "language_info": {
   "codemirror_mode": {
    "name": "ipython",
    "version": 3
   },
   "file_extension": ".py",
   "mimetype": "text/x-python",
   "name": "python",
   "nbconvert_exporter": "python",
   "pygments_lexer": "ipython3",
   "version": "3.7.6"
  }
 },
 "nbformat": 4,
 "nbformat_minor": 4
}
