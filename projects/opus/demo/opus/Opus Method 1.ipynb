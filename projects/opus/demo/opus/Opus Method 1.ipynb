{
 "cells": [
  {
   "cell_type": "markdown",
   "metadata": {},
   "source": [
    "# Opus Method 1\n",
    "\n",
    "This method of Opus verifying information about an indvidual relies on passing the entire payload received by the SSL component of the https handling mechanism to an Opus server. Opus can then parse the relevant page containing information pertaining to the online identity of an individual. Opus knows this is the same information as was presented by the orginal third party because the key used to encrypt the payload matches the key contained on the SSL certificate owned by that third party. With this trust in place,Opus has everything it needs to issue a credential.\n",
    "\n",
    "In order to issue a credential, first we need to define it on the ledger:\n",
    "\n",
    "<img src=\"../../images/opus_1A.png\" alt=\"drawing\" width=\"500\"/>\n",
    "\n",
    "Next we need to implement a method for moving <b>trusted</b> data from third parties online into our private wallets. Method 1 can be seen below. This strong trust guarentees as Opus is able to verify that the html page presented by the user is in fact the one presented by the third party. However, this also requires that the user sends <i>everything</i> which has been communicated by the thirdparty; including sensitive information like session keys. This method is only applicable where the user trusts Opus with the access to this information.\n",
    "\n",
    "<img src=\"../../images/opus_1B.png\" alt=\"drawing\" width=\"800\"/>"
   ]
  },
  {
   "cell_type": "markdown",
   "metadata": {},
   "source": [
    "## 1. Retrieving an Authenticated Github Account Page\n",
    "\n",
    "This script uses the python Requests library to retrieve a webpage and manage a session. The issue with this is that all TLS is run on wrapped libraries and is not accessible from the Requests object. However, if we can decrypt an https response, we know the cryptography is valid. We could work with PyOpenSSL instead but this seems to be deprecated. Solutions Welcome."
   ]
  },
  {
   "cell_type": "code",
   "execution_count": null,
   "metadata": {},
   "outputs": [],
   "source": [
    "import requests\n",
    "from getpass import getpass\n",
    "from bs4 import BeautifulSoup\n",
    "\n",
    "\n",
    "headers = {\n",
    " 'user-agent': 'Mozilla/5.0 (Macintosh; Intel Mac OS X 10_13_6) AppleWebKit/537.36 (KHTML, like Gecko) Chrome/73.0.3683.86 Safari/537.36'\n",
    "}\n",
    "\n",
    "login_data = {\n",
    "'commit': 'Sign in',\n",
    "'utf8': '%E2%9C%93',\n",
    "'login': input('Username: '),\n",
    "'password': getpass()\n",
    "}\n",
    "url = 'https://github.com/session'\n",
    "session = requests.Session()\n",
    "response = session.get(url, headers=headers)\n",
    "\n",
    "soup = BeautifulSoup(response.text, 'html5lib')\n",
    "login_data['authenticity_token'] = soup.find(\n",
    "'input', attrs={'name': 'authenticity_token'})['value']\n",
    "response = session.post(url, data=login_data, headers=headers)\n",
    "print(response.status_code)\n",
    "response = session.get('https://github.com/settings/organizations', headers=headers)\n",
    "# print(response.text)"
   ]
  },
  {
   "cell_type": "markdown",
   "metadata": {},
   "source": [
    "## 2. Pass Complete Response from Third Party to Opus Server\n",
    "\n",
    "This could be achieved through capturing the still https payload- pre TLS unpacking- and passing relevant components using the basic messaging protocol. This is non-trivial but achievable. For now lets assume this works and work out the logic for how things will happen next.  "
   ]
  },
  {
   "cell_type": "markdown",
   "metadata": {},
   "source": [
    "## 3. Parse Received Page for Organisation Membership"
   ]
  },
  {
   "cell_type": "markdown",
   "metadata": {},
   "source": [
    "Here we parse the recieved organisation page (as Opus) and recieve the membership affiliations."
   ]
  },
  {
   "cell_type": "code",
   "execution_count": null,
   "metadata": {},
   "outputs": [],
   "source": [
    "# response.text\n",
    "\n",
    "# from IPython.core.display import display, HTML\n",
    "# display(HTML(response.text))"
   ]
  },
  {
   "cell_type": "code",
   "execution_count": null,
   "metadata": {},
   "outputs": [],
   "source": [
    "soup = BeautifulSoup(response.text)\n",
    "\n",
    "orgsSection = soup.findAll(\"div\", {\"class\": \"col-9 float-left\"})[0].findAll(\"div\", {\"class\": \"Box\"})[0].findAll('img')\n",
    "myOrgs = set(tag['alt'] for tag in orgsSection)\n",
    "print(myOrgs)\n"
   ]
  },
  {
   "cell_type": "markdown",
   "metadata": {},
   "source": [
    "## 4. Return Parsed Data as Signed Credential"
   ]
  },
  {
   "cell_type": "code",
   "execution_count": null,
   "metadata": {},
   "outputs": [],
   "source": []
  }
 ],
 "metadata": {
  "kernelspec": {
   "display_name": "Python 3",
   "language": "python",
   "name": "python3"
  },
  "language_info": {
   "codemirror_mode": {
    "name": "ipython",
    "version": 3
   },
   "file_extension": ".py",
   "mimetype": "text/x-python",
   "name": "python",
   "nbconvert_exporter": "python",
   "pygments_lexer": "ipython3",
   "version": "3.7.6"
  }
 },
 "nbformat": 4,
 "nbformat_minor": 4
}
