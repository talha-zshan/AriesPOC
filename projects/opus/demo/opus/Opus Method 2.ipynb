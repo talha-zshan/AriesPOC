{
 "cells": [
  {
   "cell_type": "markdown",
   "metadata": {},
   "source": [
    "# Opus\n",
    "\n",
    "This method of Opus verifying information about an indvidual relies on passing the user a unique key and that user posting that key on their social media profile. Opus can then parse the account page containing the key and any subsequent data on that page. Opus knows this page belongs to the user because only the user can post to that page.\n",
    "\n",
    "In order to issue a credential, first we need to define it on the ledger:\n",
    "<img src=\"images/opus_1A.png\" alt=\"drawing\" width=\"500\"/>"
   ]
  },
  {
   "cell_type": "markdown",
   "metadata": {},
   "source": [
    "## 0. Define Scheme on Ledger\n"
   ]
  },
  {
   "cell_type": "markdown",
   "metadata": {},
   "source": [
    "### 0.1 Connect to Opus Agent with Controller as Opus\n",
    "\n",
    "This tutorial assumes a PeerDiDComm connection has been established between the Opus Agent and the User Agent\n",
    "\n",
    "TODO: Update docker and manage files to make this the Opus Agent in name also\n"
   ]
  },
  {
   "cell_type": "code",
   "execution_count": null,
   "metadata": {},
   "outputs": [],
   "source": [
    "from aries_basic_controller.aries_controller import AriesAgentController\n",
    "    \n",
    "WEBHOOK_HOST = \"0.0.0.0\"\n",
    "WEBHOOK_PORT = 8052\n",
    "WEBHOOK_BASE = \"\"\n",
    "ADMIN_URL = \"http://bob-agent:8051\"\n",
    "\n",
    "# Based on the aca-py agent you wish to control\n",
    "agent_controller = AriesAgentController(admin_url=ADMIN_URL)\n",
    "\n",
    "agent_controller.init_webhook_server(webhook_host=WEBHOOK_HOST, webhook_port=WEBHOOK_PORT,\n",
    "                                       webhook_base=WEBHOOK_BASE)"
   ]
  },
  {
   "cell_type": "markdown",
   "metadata": {},
   "source": [
    "### 0.2 Write Scheme to Ledger"
   ]
  },
  {
   "cell_type": "code",
   "execution_count": null,
   "metadata": {},
   "outputs": [],
   "source": [
    "# Define you schema name - must be unique on the ledger\n",
    "schema_name = \"openmined_member\"\n",
    "# Can version the schema if you wish to update it\n",
    "schema_version = \"0.0.1\"\n",
    "# Define any list of attributes you wish to include in your schema\n",
    "attributes = [\"Username\", \"OpenMined Member\"]\n",
    "\n",
    "response = await agent_controller.schema.write_schema(schema_name, attributes, schema_version)\n",
    "schema_id = response[\"schema_id\"]\n",
    "print(schema_id)"
   ]
  },
  {
   "cell_type": "markdown",
   "metadata": {},
   "source": [
    "<img src=\"images/scheme.png\" alt=\"drawing\" width=\"800\"/>"
   ]
  },
  {
   "cell_type": "markdown",
   "metadata": {},
   "source": [
    "### 0.3 Write Credential to Ledger\n",
    "\n",
    "More details in the [definitions notebook](http://localhost:8888/notebooks/definitions_api.ipynb)\n",
    "\n",
    "**Note: Again this can only be done once per issuer, per schema_id.**"
   ]
  },
  {
   "cell_type": "code",
   "execution_count": null,
   "metadata": {},
   "outputs": [],
   "source": [
    "response = await agent_controller.definitions.write_cred_def(schema_id)\n",
    "\n",
    "cred_def_id = response[\"credential_definition_id\"]\n",
    "print(cred_def_id)"
   ]
  },
  {
   "cell_type": "markdown",
   "metadata": {},
   "source": [
    "<img src=\"images/credential.png\" alt=\"drawing\" width=\"800\"/>"
   ]
  },
  {
   "cell_type": "markdown",
   "metadata": {},
   "source": [
    "### 0.4 Get Schema on Ledger by ID"
   ]
  },
  {
   "cell_type": "code",
   "execution_count": null,
   "metadata": {},
   "outputs": [],
   "source": [
    "schema = await agent_controller.schema.get_by_id(schema_id)\n",
    "print(schema)"
   ]
  },
  {
   "cell_type": "markdown",
   "metadata": {},
   "source": [
    "# Data Onboarding: Method 2\n",
    "\n",
    "Next we need to implement a method for moving <b>trusted</b> data from third parties online into our private wallets. Method 2 can be seen below. This good trust guarentees as Opus is able to verify that the html page presented by the user has the authority to post on the account page of the third party service. However, this limits credentialing to only public information. The user doesn't need to trust Opus but Opus is limited to publicly available infromation when it comes to what it can sign off.\n",
    "\n",
    "<img src=\"images/opus_2B.png\" alt=\"drawing\" width=\"800\"/>"
   ]
  },
  {
   "cell_type": "markdown",
   "metadata": {},
   "source": [
    "## 1. User Retrieves Ownership Token\n",
    "\n",
    "Handle the message, prepare a response with a unique string for account verification. User posts it to their profile."
   ]
  },
  {
   "cell_type": "markdown",
   "metadata": {},
   "source": [
    "### 1.0 Check for Active connection with User Agent"
   ]
  },
  {
   "cell_type": "code",
   "execution_count": null,
   "metadata": {},
   "outputs": [],
   "source": [
    "response = await agent_controller.connections.get_connections()\n",
    "results = response['results']\n",
    "# print(\"Results : \", results)\n",
    "if len(results) > 0:\n",
    "    connection = response['results'][0]\n",
    "#     print(\"Connection :\", connection)\n",
    "    if connection['state'] == 'active':       \n",
    "        connection_id = connection[\"connection_id\"]\n",
    "        print(\"Active Connection ID : \", connection_id)\n",
    "    else:\n",
    "        print(\"Connection is still progressing to active state, retry in a few moments\")\n",
    "else:\n",
    "    print(\"You must create a connection\")"
   ]
  },
  {
   "cell_type": "markdown",
   "metadata": {},
   "source": [
    "### 1.1 Setup a listener for the basicmessages topic\n",
    "\n",
    "This is emitted using PyPubSub when the controller receives a basicmessages webhook from the agent. This happens everytime the agent receives a basicmessage."
   ]
  },
  {
   "cell_type": "code",
   "execution_count": null,
   "metadata": {},
   "outputs": [],
   "source": [
    "%autoawait\n",
    "import time\n",
    "import asyncio\n",
    "import secrets\n",
    "\n",
    "\n",
    "def messages_handler(payload):\n",
    "    global USER \n",
    "    connection_id = payload[\"connection_id\"]\n",
    "    USER = payload[\"content\"]\n",
    "    print(\"USER RESPONSE:\", payload[\"content\"], \"\\nCONNECTION_ID: \"+connection_id)\n",
    "\n",
    "message_listener = {\n",
    "    \"handler\": messages_handler,\n",
    "    \"topic\": \"basicmessages\"\n",
    "}\n",
    "\n",
    "# def opus_protocol_handler(payload):\n",
    "#     global USER \n",
    "#     connection_id = payload[\"connection_id\"]\n",
    "#     USER = payload[\"content\"]\n",
    "#     print(\"USERNAME:\", payload[\"content\"],)\n",
    "    \n",
    "#     ownership_proof = \"53a4198707658f2b0402af57441aa380\"\n",
    "#     ownership_statement = \"#OPUS \"+ownership_proof+\"==\"\n",
    "#     print(\"PROOF: \"+ownership_statement)\n",
    "    \n",
    "#     basic_message = \"Post '\"+ownership_statement+\"' on your Github profile. If successfull, We'll issue your credential it within the next 5 minutes.\"\n",
    "#     response = await agent_controller.messaging.send_message(connection_id, basic_message)\n",
    "\n",
    "    \n",
    "# opus_listener = {\n",
    "#     \"handler\": opus_protocol_handler,\n",
    "#     \"topic\": \"opus_protocol_handler\"\n",
    "# }\n",
    "\n",
    "def cred_handler(payload):\n",
    "    print(\"Handle Credentials\")\n",
    "    exchange_id = payload['credential_exchange_id']\n",
    "    state = payload['state']\n",
    "    role = payload['role']\n",
    "    attributes = payload['credential_proposal_dict']['credential_proposal']['attributes']\n",
    "    print(f\"Credential exchange {exchange_id}, role: {role}, state: {state}\")\n",
    "    print(f\"Offering: {attributes}\")\n",
    "    \n",
    "cred_listener = {\n",
    "    \"topic\": \"issue_credential\",\n",
    "    \"handler\": cred_handler\n",
    "}\n",
    "\n",
    "loop = asyncio.get_event_loop()\n",
    "loop.create_task(agent_controller.listen_webhooks())\n",
    "\n",
    "agent_controller.register_listeners([cred_listener, message_listener], defaults=True)"
   ]
  },
  {
   "cell_type": "markdown",
   "metadata": {},
   "source": [
    "## --- Run through steps 1-3 on User side ---"
   ]
  },
  {
   "cell_type": "markdown",
   "metadata": {},
   "source": [
    "### 1.3 Send Verification Code over Secure Channel"
   ]
  },
  {
   "cell_type": "code",
   "execution_count": null,
   "metadata": {},
   "outputs": [],
   "source": [
    "import secrets\n",
    "\n",
    "# ownership_proof = secrets.token_hex(16)\n",
    "ownership_proof = \"53a4198707658f2b0402af57441aa380\"\n",
    "ownership_statement = \"#OPUS \"+ownership_proof+\"==\"\n",
    "print(ownership_statement)\n",
    "\n",
    "basic_message = \"Post '\"+ownership_statement+\"' on your Github profile. When ready, respond with your username.\"\n",
    "response = await agent_controller.messaging.send_message(connection_id, basic_message)\n",
    "print(\"BASIC MESSAGE - Opus -> Alice\")\n",
    "print(response)"
   ]
  },
  {
   "cell_type": "markdown",
   "metadata": {},
   "source": [
    "## 2. Sign in to Account and Post Ownership Token\n",
    "\n",
    "Performed on the user side. User then sends username to Opus. "
   ]
  },
  {
   "cell_type": "markdown",
   "metadata": {},
   "source": [
    "## 3. Parse Account Page URL, Retrieve Ownership Token\n",
    "\n",
    "Crawling is not yet robust but should complete given the user has posted to their profile. "
   ]
  },
  {
   "cell_type": "code",
   "execution_count": null,
   "metadata": {},
   "outputs": [],
   "source": [
    "import requests\n",
    "import re\n",
    "from bs4 import BeautifulSoup \n",
    "\n",
    "#Retrieve Page\n",
    "http_response = requests.get(\"https://github.com/\"+USER)\n",
    "\n",
    "#Parse Account info for ownership token\n",
    "soup = BeautifulSoup(http_response.text)\n",
    "ownership_token = soup.findAll(\"div\", {\"class\": \"user-profile-bio\"})[0].findAll(\"div\")[0].text.strip()\n",
    "ownership_token = ownership_token.split(\"#OPUS \",1)[1].split(\"==\",1)[0] \n",
    "\n",
    "if ownership_token == ownership_proof:\n",
    "    print(\"Account Ownership Verified\")\n",
    "else:\n",
    "    print(\"Unable to Link\")"
   ]
  },
  {
   "cell_type": "markdown",
   "metadata": {},
   "source": [
    "## 4. Parse Authenticated Page for Organisation Membership"
   ]
  },
  {
   "cell_type": "markdown",
   "metadata": {},
   "source": [
    "Here we parse the recieved organisation page (as Opus) and recieve the membership affiliations."
   ]
  },
  {
   "cell_type": "code",
   "execution_count": null,
   "metadata": {},
   "outputs": [],
   "source": [
    "soup = BeautifulSoup(http_response.text)\n",
    "\n",
    "orgsSection = soup.findAll(\"div\", {\"class\": \"border-top pt-3 mt-3 clearfix hide-sm hide-md\"})[0].findAll('img')\n",
    "myOrgs = set(tag['alt'] for tag in orgsSection)\n",
    "\n",
    "if '@OpenMined' in myOrgs:\n",
    "    print(\"Account Linked to OpenMined\")\n",
    "else:\n",
    "    print(\"Unable to Find OpenMined org\")"
   ]
  },
  {
   "cell_type": "markdown",
   "metadata": {},
   "source": [
    "## 5. Issue Parsed Data as OpenMined Credential"
   ]
  },
  {
   "cell_type": "markdown",
   "metadata": {},
   "source": [
    "### 5.3 Populate the Attribues to Issue to Alice"
   ]
  },
  {
   "cell_type": "code",
   "execution_count": null,
   "metadata": {},
   "outputs": [],
   "source": [
    "credential_attributes = [\n",
    "    {\"name\": \"Username\", \"value\": USER},\n",
    "    {\"name\": \"OpenMined Member\", \"value\": \"1\"}\n",
    "]\n",
    "print(credential_attributes)"
   ]
  },
  {
   "cell_type": "markdown",
   "metadata": {},
   "source": [
    "### 5.5 Send credential"
   ]
  },
  {
   "cell_type": "code",
   "execution_count": null,
   "metadata": {},
   "outputs": [],
   "source": [
    "record = await agent_controller.issuer.send_credential(connection_id, schema_id, cred_def_id, credential_attributes, trace=False)\n",
    "record_id = record['credential_exchange_id']\n",
    "state = record['state']\n",
    "role = record['role']\n",
    "print(f\"Credential exchange {record_id}, role: {role}, state: {state}\")"
   ]
  },
  {
   "cell_type": "markdown",
   "metadata": {},
   "source": [
    "### 5.6 Finish the tutorial from the Users notebook"
   ]
  }
 ],
 "metadata": {
  "kernelspec": {
   "display_name": "Python 3",
   "language": "python",
   "name": "python3"
  },
  "language_info": {
   "codemirror_mode": {
    "name": "ipython",
    "version": 3
   },
   "file_extension": ".py",
   "mimetype": "text/x-python",
   "name": "python",
   "nbconvert_exporter": "python",
   "pygments_lexer": "ipython3",
   "version": "3.7.6"
  },
  "pycharm": {
   "stem_cell": {
    "cell_type": "raw",
    "source": [],
    "metadata": {
     "collapsed": false
    }
   }
  }
 },
 "nbformat": 4,
 "nbformat_minor": 4
}