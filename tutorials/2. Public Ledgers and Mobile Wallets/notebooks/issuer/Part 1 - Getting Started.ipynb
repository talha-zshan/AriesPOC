{
 "cells": [
  {
   "cell_type": "markdown",
   "metadata": {},
   "source": [
    "# Getting Started - SSI in the \"Real World\""
   ]
  },
  {
   "cell_type": "markdown",
   "metadata": {},
   "source": [
    "If you are new to Self-Sovereign Identity, we recommend running through the aries-basic-controller tutorial series to understand the basics.\n",
    "\n",
    "In previous tutorials all infrastructure was running on your own machine, this includes the issuer agent, verifier agent, indy network and indy ledger browser. For development and learning purposes it is sufficient, however to move into the \"real world\" of SSI we require the agents to be exposed to the internet and furthermore for the issuer agent and verifier agent to be connected to a global public utility such as the [Sovrin Stagingnet](https://indyscan.io/home/SOVRIN_STAGINGNET) used in this demo.\n",
    "\n",
    "In this tutorial series YOU will play the the credential holder using a mobile SSI wallet of your choice. The notebooks take you through the flow of issuing yourself a credential to this wallet and then presenting a proof of the attributes you received to a verifier notebook highlighting how the individual can become the point of integration for information about them."
   ]
  },
  {
   "cell_type": "markdown",
   "metadata": {},
   "source": [
    "This tutorial series will work through the following:\n",
    "* Exposing your agent to the world\n",
    "* Connecting the Issuer agent to Sovrin Stagingnet\n",
    "* Acceptance of the Transaction Author Agreement (TAA)\n",
    "* Ledgering Issuer agent DID, DIDDoc, Schema and Credential definitions to Sovrin Stagingnet\n",
    "* Making a connection between Issuer Agent and an Identity Holder's Mobile SSI Wallet\n",
    "* Issuing a credential to an Identity Holder's Mobile SSI Wallet\n",
    "* Making a connection between Verifier Agent and an Identity Holder's Mobile SSI Wallet\n",
    "* Requesting a proof from the Verifier agent to an Identity Holder's Mobile SSI Wallet\n",
    "* Verifiying the presentation proof by the Verifier agent\n",
    "* End of demo"
   ]
  },
  {
   "cell_type": "markdown",
   "metadata": {},
   "source": [
    "## Exposing your agent to the world\n",
    "\n",
    "### Disclaimer regarding the use of ngrok\n",
    "Both compose setups use the ngrok tunneling service to make your agent available to the outside world. One caveat of this, however, is that connections made from your docker agent will expire within 8 hours as a limitation of the ngrok free-tier. Therefore, these setups are intended for demonstration purposes only and should not be relied upon as is for production environments.\n",
    "\n",
    "### What is `ngrok`?\n",
    "Ngrok exposes local servers behind NATs and firewalls to the public internet over secure tunnels.\n",
    "\n",
    "Visit [ngrok](https://ngrok.com/) for more information.\n",
    "\n",
    "### What do we do with ngrok?\n",
    "We use ngrok to expose the issuer and verifier agents to the internet so that SSI Mobile Wallets and other agents on the internet can communicate with our agent running on our local machine across the endpoints we expose using ngrok."
   ]
  },
  {
   "cell_type": "markdown",
   "metadata": {},
   "source": [
    "## Configuring an agent to point to the Sovrin StagingNet\n",
    "\n",
    "The ledger the agent is an important part of the configuration process. An agent will attempt to resolve public DID's, credential definitions and schemas from this location, so if the other agent they interact with is using a different ledger then the verification protocols will no longer work.\n",
    "\n",
    "To configure an agent to use the Sovrin Stagingnet the following is required:\n",
    "* Providing the Sovrin Stagingnet Genesis file URL to the agent during startup with the `--genesis-url` startup parameter for Aca-Py. \n",
    "    * Sovrin Stagingnet genesis URL can be found [here](https://raw.githubusercontent.com/sovrin-foundation/sovrin/master/sovrin/pool_transactions_sandbox_genesis).\n",
    "    * For a complete list of Aca-Py startup parameters please refer to [this](https://github.com/hyperledger/aries-cloudagent-python/blob/25b7a9c08921e67b0962c434102489884ac403b2/aries_cloudagent/config/argparse.py) link.\n",
    "* Ensure that agent is exposed to the internet with `ngrok`\n",
    "\n",
    "Both of these are already taken care off by the aries-args YAML files in the configuration folder in PyDentity root that provide paramaeters for the docker environments. You can go and have a look in the docker-compose.yml in this tutorial folder to see what images are used. Then check the respective docker and arg files to get an idea of how this can be configured.\n"
   ]
  },
  {
   "cell_type": "markdown",
   "metadata": {},
   "source": [
    "## Writing to the Ledger\n",
    "\n",
    "Only agents that intend to **issue credentials are required to write to the ledger**. Before being able to write to the ledger they must control a DID, that is stored on that ledger and has the authority to write. That is, transactions signed by this DID will be accepted by the nodes maintaining consensus within the network.\n",
    "\n",
    "Different ledgers have different rules governing the process of getting a DID written to the ledger with the authority to write - a Pubic DID. As we will see in more detail in the next tutorial the StagingNet is a permissionless ledger but it still requires DID's to sign something called a Transaction Author Agreement (TAA).\n",
    "\n"
   ]
  },
  {
   "cell_type": "markdown",
   "metadata": {},
   "source": [
    "## Continue to [Part 2 - Writing a Public DID to the StagingNet](http://localhost:8888/lab/tree/Part%202%20-%20Writing%20a%20Public%20DID%20to%20the%20Sovrin%20StagingNet.ipynb)"
   ]
  }
 ],
 "metadata": {
  "kernelspec": {
   "display_name": "Python 3",
   "language": "python",
   "name": "python3"
  },
  "language_info": {
   "codemirror_mode": {
    "name": "ipython",
    "version": 3
   },
   "file_extension": ".py",
   "mimetype": "text/x-python",
   "name": "python",
   "nbconvert_exporter": "python",
   "pygments_lexer": "ipython3",
   "version": "3.8.5"
  }
 },
 "nbformat": 4,
 "nbformat_minor": 4
}