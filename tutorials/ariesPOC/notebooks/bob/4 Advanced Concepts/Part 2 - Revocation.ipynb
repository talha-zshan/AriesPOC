{
 "cells": [
  {
   "cell_type": "markdown",
   "metadata": {},
   "source": [
    "# Revocation - Bob\n",
    "\n",
    "## Role: Credential Holder\n",
    "\n",
    "There will be two parts to this notebook:\n",
    "\n",
    "- Part 1: Alice issues a revocable credential to [Bob](http://localhost:8889/lab/tree/5%20Advanced%20Concepts/Part%202%20-%20Revocation.ipynb). Bob will store this credential and present proof of it back to Alice while it is not revoked, and Alice will verify the presentation.\n",
    "- Part 2: Alice then revokes the credential issued to Bob in Part 1 and requests another proof from Bob. This second presentation from Bob will fail to verify.\n",
    "\n",
    "For details on how revocation works on Hyperledger Indy, you can read more [here](https://github.com/hyperledger/indy-hipe/tree/master/text/0011-cred-revocation)."
   ]
  },
  {
   "cell_type": "markdown",
   "metadata": {},
   "source": [
    "# Part 1 - Issuing & Proving Non-Revoked Credential\n",
    "\n",
    "## Complete steps 1-6 in [Alice's revocation notebook](http://localhost:8888/lab/tree/5%20Advanced%20Concepts/Part%202%20-%20Revocation.ipynb)"
   ]
  },
  {
   "cell_type": "markdown",
   "metadata": {},
   "source": [
    "## 7. Initialise Bob's controller"
   ]
  },
  {
   "cell_type": "code",
   "execution_count": null,
   "metadata": {},
   "outputs": [],
   "source": [
    "%autoawait\n",
    "import time\n",
    "import asyncio\n",
    "\n",
    "from aries_basic_controller.aries_controller import AriesAgentController\n",
    "    \n",
    "WEBHOOK_HOST = \"0.0.0.0\"\n",
    "WEBHOOK_PORT = 8052\n",
    "WEBHOOK_BASE = \"\"\n",
    "ADMIN_URL = \"http://bob-agent:8051\"\n",
    "\n",
    "agent_controller = AriesAgentController(admin_url=ADMIN_URL)"
   ]
  },
  {
   "cell_type": "code",
   "execution_count": null,
   "metadata": {},
   "outputs": [],
   "source": [
    "agent_controller.init_webhook_server(webhook_host=WEBHOOK_HOST,\n",
    "                                     webhook_port=WEBHOOK_PORT,\n",
    "                                     webhook_base=WEBHOOK_BASE)"
   ]
  },
  {
   "cell_type": "markdown",
   "metadata": {},
   "source": [
    "## 8. Register listeners\n",
    "\n",
    "The handler should get called every time the controller receives a webhook with the topic `issue_credential` and `present_proof`, printing out the payload. The agent calls to this webhook every time it receives protocol messages for these topics from a credential."
   ]
  },
  {
   "cell_type": "code",
   "execution_count": null,
   "metadata": {},
   "outputs": [],
   "source": [
    "loop = asyncio.get_event_loop()\n",
    "loop.create_task(agent_controller.listen_webhooks())"
   ]
  },
  {
   "cell_type": "code",
   "execution_count": null,
   "metadata": {},
   "outputs": [],
   "source": [
    "def cred_handler(payload):\n",
    "    print(\"Handle Credentials\")\n",
    "    global connection_id\n",
    "    connection_id = payload['connection_id']\n",
    "    exchange_id = payload['credential_exchange_id']\n",
    "    state = payload['state']\n",
    "    role = payload['role']\n",
    "    attributes = payload['credential_proposal_dict']['credential_proposal']['attributes']\n",
    "    print(f\"Credential exchange {exchange_id}, role: {role}, state: {state}\")\n",
    "    print(f\"Offering: {attributes}\")\n",
    "    \n",
    "cred_listener = {\n",
    "    \"topic\": \"issue_credential\",\n",
    "    \"handler\": cred_handler\n",
    "}\n",
    "\n",
    "def proof_handler(payload):\n",
    "    print(\"Handle present proof\")\n",
    "    role = payload[\"role\"]\n",
    "    global pres_ex_id\n",
    "    pres_ex_id = payload[\"presentation_exchange_id\"]\n",
    "    state = payload[\"state\"]\n",
    "    print(f\"Role {role}, Exchange {pres_ex_id} in state {state}\")\n",
    "\n",
    "proof_listener = {\n",
    "    \"topic\": \"present_proof\",\n",
    "    \"handler\": proof_handler\n",
    "}\n",
    "\n",
    "agent_controller.register_listeners([cred_listener, proof_listener], defaults=True)"
   ]
  },
  {
   "cell_type": "markdown",
   "metadata": {},
   "source": [
    "## 9. Continue to [Alice's Notebook](http://localhost:8888/lab/tree/5%20Advanced%20Concepts/Part%202%20-%20Revocation.ipynb)\n",
    "\n",
    "Alice will issue Bob a revocable credential."
   ]
  },
  {
   "cell_type": "markdown",
   "metadata": {},
   "source": [
    "## 10. Check your credential records\n",
    "\n",
    "You should have one recording the credential offer from Alice. This should also have shown up as as a print statement from the handler function."
   ]
  },
  {
   "cell_type": "code",
   "execution_count": null,
   "metadata": {},
   "outputs": [],
   "source": [
    "response = await agent_controller.issuer.get_records()\n",
    "results = response[\"results\"]\n",
    "print(len(results))\n",
    "if len(results) == 0:\n",
    "    print(\"You need to first send a credential from the issuer notebook (Alice)\")\n",
    "else:\n",
    "    cred_record = results[0]\n",
    "    cred_ex_id = cred_record['credential_exchange_id']\n",
    "    state = cred_record['state']\n",
    "    role = cred_record['role']\n",
    "    attributes = results[0]['credential_proposal_dict']['credential_proposal']['attributes']\n",
    "    print(f\"Credential exchange {cred_ex_id}, role: {role}, state: {state}\")\n",
    "    print(f\"Being offered: {attributes}\")"
   ]
  },
  {
   "cell_type": "markdown",
   "metadata": {},
   "source": [
    "## 11. Request credential from Alice\n",
    "\n",
    "If happy with the attributes being offered in the credential, then the holder requests the credential from the issuer to proceed with the issuance.\n",
    "\n",
    "It is only possible to request a credential from an exchange when it is in the `offer_received` state."
   ]
  },
  {
   "cell_type": "code",
   "execution_count": null,
   "metadata": {},
   "outputs": [],
   "source": [
    "record = await agent_controller.issuer.send_request_for_record(cred_ex_id)\n",
    "state = record['state']\n",
    "role = record['role']\n",
    "print(f\"Credential exchange {cred_ex_id}, role: {role}, state: {state}\")"
   ]
  },
  {
   "cell_type": "markdown",
   "metadata": {},
   "source": [
    "## 12. Store the redential\n",
    "\n",
    "Once the issuer has responded to a request by sending the credential, the holder needs to store it to save the credential for later.\n",
    "\n",
    "First check that the credential record is in the `credential_received` state."
   ]
  },
  {
   "cell_type": "code",
   "execution_count": null,
   "metadata": {},
   "outputs": [],
   "source": [
    "# This can be anything you want. You will use it later to fetch this credential from the agent storage.\n",
    "credential_id = \"My Revocable Credential\""
   ]
  },
  {
   "cell_type": "code",
   "execution_count": null,
   "metadata": {},
   "outputs": [],
   "source": [
    "response = await agent_controller.issuer.store_credential(cred_ex_id, credential_id)\n",
    "state = response['state']\n",
    "role = response['role']\n",
    "print(f\"Credential exchange {cred_ex_id}, role: {role}, state: {state}\")"
   ]
  },
  {
   "cell_type": "markdown",
   "metadata": {},
   "source": [
    "## 13. Check revocation status of the credential\n",
    "\n",
    "It should not be revoked."
   ]
  },
  {
   "cell_type": "code",
   "execution_count": null,
   "metadata": {},
   "outputs": [],
   "source": [
    "response = await agent_controller.credentials.is_revoked(credential_id)\n",
    "response"
   ]
  },
  {
   "cell_type": "markdown",
   "metadata": {},
   "source": [
    "## 14. Continue in [Alice's Notebook](http://localhost:8888/lab/tree/5%20Advanced%20Concepts/Part%202%20-%20Revocation.ipynb)\n",
    "\n",
    "Send a presentation request for a non revoked credential proof.\n"
   ]
  },
  {
   "cell_type": "markdown",
   "metadata": {},
   "source": [
    "## 15. Fetch redentials for presentation\n",
    "\n",
    "Note `pres_ex_id` is set in the proofs handler.\n",
    "\n",
    "TODO: make these steps clearer."
   ]
  },
  {
   "cell_type": "code",
   "execution_count": null,
   "metadata": {},
   "outputs": [],
   "source": [
    "pres_ex_id\n",
    "response = await agent_controller.proofs.get_record_by_id(pres_ex_id)\n",
    "presentation_request = response['presentation_request']\n",
    "presentation_request"
   ]
  },
  {
   "cell_type": "code",
   "execution_count": null,
   "metadata": {},
   "outputs": [],
   "source": [
    "if state == \"request_received\":\n",
    "    print(\n",
    "    \"Received Request -> Query for credentials in the wallet that satisfy the proof request\")\n",
    "    \n",
    "if presentation_request != None:\n",
    "    # include self-attested attributes (not included in credentials)\n",
    "    credentials_by_reft = {}\n",
    "    revealed = {}\n",
    "    self_attested = {}\n",
    "    predicates = {}\n",
    "\n",
    "    # select credentials to provide for the proof\n",
    "    credentials = await agent_controller.proofs.get_presentation_credentials(pres_ex_id)\n",
    "    print(credentials)\n",
    "\n",
    "    if credentials:\n",
    "        for row in sorted(\n",
    "            credentials,\n",
    "            key=lambda c: dict(c[\"cred_info\"][\"attrs\"]),\n",
    "            reverse=True,\n",
    "        ):\n",
    "            for referent in row[\"presentation_referents\"]:\n",
    "                if referent not in credentials_by_reft:\n",
    "                    credentials_by_reft[referent] = row\n",
    "\n",
    "    for referent in presentation_request[\"requested_attributes\"]:\n",
    "        if referent in credentials_by_reft:\n",
    "            revealed[referent] = {\n",
    "                \"cred_id\": credentials_by_reft[referent][\"cred_info\"][\n",
    "                    \"referent\"\n",
    "                ],\n",
    "                \"revealed\": True,\n",
    "            }\n",
    "\n",
    "        else:\n",
    "            self_attested[referent] = \"South Africa\"\n",
    "\n",
    "    for referent in presentation_request[\"requested_predicates\"]:\n",
    "        if referent in credentials_by_reft:\n",
    "            predicates[referent] = {\n",
    "                \"cred_id\": credentials_by_reft[referent][\"cred_info\"][\n",
    "                    \"referent\"\n",
    "                ]\n",
    "            }\n",
    "\n",
    "    print(\"\\nGenerate the proof\")\n",
    "    proof = {\n",
    "        \"requested_predicates\": predicates,\n",
    "        \"requested_attributes\": revealed,\n",
    "        \"self_attested_attributes\": self_attested,\n",
    "    }\n",
    "    print(proof)\n",
    "    print(\"\\nXXX\")\n",
    "    print(\"\\npredicates:\\n{}\".format(predicates))\n",
    "    print(\"\\nrevealed:\\n{}\".format(revealed))\n",
    "    print(\"\\nself_attested:\\n{}\".format(self_attested))\n",
    "    \n",
    "else: \n",
    "    print(\"No presenation record identifier\")"
   ]
  },
  {
   "cell_type": "markdown",
   "metadata": {},
   "source": [
    "## 16. Send presentation\n",
    "\n",
    "Bob sends the proof presentation to Alice for verification."
   ]
  },
  {
   "cell_type": "code",
   "execution_count": null,
   "metadata": {},
   "outputs": [],
   "source": [
    "response = await agent_controller.proofs.send_presentation(pres_ex_id, proof)\n",
    "print(response)"
   ]
  },
  {
   "cell_type": "markdown",
   "metadata": {},
   "source": [
    "## 17. Continue in [Alice's Notebook](http://localhost:8888/lab/tree/5%20Advanced%20Concepts/Part%202%20-%20Revocation.ipynb)\n",
    "\n",
    "Alice will verify the non-revoked credential to be OK."
   ]
  },
  {
   "cell_type": "markdown",
   "metadata": {},
   "source": [
    "# Part 2 - Revoking the credential"
   ]
  },
  {
   "cell_type": "markdown",
   "metadata": {},
   "source": [
    "## 19. Check credential\n",
    "\n",
    "Bob will check his credential now to find that it is revoked."
   ]
  },
  {
   "cell_type": "code",
   "execution_count": null,
   "metadata": {},
   "outputs": [],
   "source": [
    "response = await agent_controller.credentials.is_revoked(credential_id)\n",
    "response"
   ]
  },
  {
   "cell_type": "markdown",
   "metadata": {},
   "source": [
    "## 20. Continue in [Alice's Notebook](http://localhost:8888/lab/tree/5%20Advanced%20Concepts/Part%202%20-%20Revocation.ipynb)\n",
    "\n",
    "Alice will request for a credential proof once again."
   ]
  },
  {
   "cell_type": "markdown",
   "metadata": {},
   "source": [
    "## 21. Fetch credentials for presentation proof\n",
    "\n",
    "Note `pres_ex_id` is set in the proofs handler."
   ]
  },
  {
   "cell_type": "code",
   "execution_count": null,
   "metadata": {},
   "outputs": [],
   "source": [
    "# fetch credentials for presenting proof\n",
    "pres_ex_id\n",
    "response = await agent_controller.proofs.get_record_by_id(pres_ex_id)\n",
    "presentation_request = response['presentation_request']\n",
    "presentation_request"
   ]
  },
  {
   "cell_type": "code",
   "execution_count": null,
   "metadata": {},
   "outputs": [],
   "source": [
    "if state == \"request_received\":\n",
    "    print(\n",
    "    \"Received Request -> Query for credentials in the wallet that satisfy the proof request\")\n",
    "    \n",
    "if presentation_request != None:\n",
    "    # include self-attested attributes (not included in credentials)\n",
    "    credentials_by_reft = {}\n",
    "    revealed = {}\n",
    "    self_attested = {}\n",
    "    predicates = {}\n",
    "\n",
    "    # select credentials to provide for the proof\n",
    "    credentials = await agent_controller.proofs.get_presentation_credentials(pres_ex_id)\n",
    "    print(credentials)\n",
    "\n",
    "    if credentials:\n",
    "        for row in sorted(\n",
    "            credentials,\n",
    "            key=lambda c: dict(c[\"cred_info\"][\"attrs\"]),\n",
    "            reverse=True,\n",
    "        ):\n",
    "            for referent in row[\"presentation_referents\"]:\n",
    "                if referent not in credentials_by_reft:\n",
    "                    credentials_by_reft[referent] = row\n",
    "\n",
    "    for referent in presentation_request[\"requested_attributes\"]:\n",
    "        if referent in credentials_by_reft:\n",
    "            revealed[referent] = {\n",
    "                \"cred_id\": credentials_by_reft[referent][\"cred_info\"][\n",
    "                    \"referent\"\n",
    "                ],\n",
    "                \"revealed\": True,\n",
    "            }\n",
    "\n",
    "        else:\n",
    "            self_attested[referent] = \"South Africa\"\n",
    "\n",
    "    for referent in presentation_request[\"requested_predicates\"]:\n",
    "        if referent in credentials_by_reft:\n",
    "            predicates[referent] = {\n",
    "                \"cred_id\": credentials_by_reft[referent][\"cred_info\"][\n",
    "                    \"referent\"\n",
    "                ]\n",
    "            }\n",
    "\n",
    "    print(\"\\nGenerate the proof\")\n",
    "    proof = {\n",
    "        \"requested_predicates\": predicates,\n",
    "        \"requested_attributes\": revealed,\n",
    "        \"self_attested_attributes\": self_attested,\n",
    "    }\n",
    "    print(proof)\n",
    "    print(\"\\nXXX\")\n",
    "    print(\"\\npredicates:\\n{}\".format(predicates))\n",
    "    print(\"\\nrevealed:\\n{}\".format(revealed))\n",
    "    print(\"\\nself_attested:\\n{}\".format(self_attested))\n",
    "    \n",
    "else: \n",
    "    print(\"No presenation record identifier\")"
   ]
  },
  {
   "cell_type": "markdown",
   "metadata": {},
   "source": [
    "## 22. Send presentation\n",
    "\n",
    "Bob sends the proof presentation to Alice for verification."
   ]
  },
  {
   "cell_type": "code",
   "execution_count": null,
   "metadata": {},
   "outputs": [],
   "source": [
    "response = await agent_controller.proofs.send_presentation(pres_ex_id, proof)\n",
    "print(response)"
   ]
  },
  {
   "cell_type": "markdown",
   "metadata": {},
   "source": [
    "## 23. Continue in [Alice's Notebook](http://localhost:8888/lab/tree/5%20Advanced%20Concepts/Part%202%20-%20Revocation.ipynb)\n",
    "\n",
    "Alice will verify the now revoked credential to be NOT OK."
   ]
  },
  {
   "cell_type": "markdown",
   "metadata": {},
   "source": [
    "## End of Tutorial\n",
    "\n",
    "Be sure to terminate the controller."
   ]
  },
  {
   "cell_type": "code",
   "execution_count": null,
   "metadata": {},
   "outputs": [],
   "source": [
    "response = await agent_controller.terminate()\n",
    "print(response)"
   ]
  },
  {
   "cell_type": "code",
   "execution_count": null,
   "metadata": {},
   "outputs": [],
   "source": []
  }
 ],
 "metadata": {
  "kernelspec": {
   "display_name": "Python 3",
   "language": "python",
   "name": "python3"
  },
  "language_info": {
   "codemirror_mode": {
    "name": "ipython",
    "version": 3
   },
   "file_extension": ".py",
   "mimetype": "text/x-python",
   "name": "python",
   "nbconvert_exporter": "python",
   "pygments_lexer": "ipython3",
   "version": "3.8.5"
  }
 },
 "nbformat": 4,
 "nbformat_minor": 4
}
