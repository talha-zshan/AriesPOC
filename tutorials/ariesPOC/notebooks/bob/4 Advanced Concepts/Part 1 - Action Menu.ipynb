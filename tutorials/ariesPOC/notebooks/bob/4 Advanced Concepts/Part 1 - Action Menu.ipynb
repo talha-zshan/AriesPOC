{
 "cells": [
  {
   "cell_type": "markdown",
   "metadata": {},
   "source": [
    "# Action Menu - Bob\n",
    "\n",
    "## Role - Responder\n",
    "\n",
    "In this notebook we'll be going through the Action Menu Protocol. For details on the protocol, please refer to the [RFC](https://github.com/hyperledger/aries-rfcs/tree/master/features/0509-action-menu). Specifically, we'll demonstrate how Bob acts as a Responder to respond to Action Menu related requests from Alice.\n",
    "\n",
    "A requirement for this protocol to work is an active DIDComm communication channel between Alice and Bob. To achieve that, you should have completed the [Establishing a Connection](http://localhost:8888/lab/tree/1%20Basic%20Concepts%20and%201st%20Connection/Part%203%20-%20Establishing%20a%20Connection.ipynb) tutorial."
   ]
  },
  {
   "cell_type": "markdown",
   "metadata": {},
   "source": [
    "## 1. Initialise Bob controller\n",
    "\n",
    "We begin by initialising the controller for Bob."
   ]
  },
  {
   "cell_type": "code",
   "execution_count": null,
   "metadata": {},
   "outputs": [],
   "source": [
    "%autoawait\n",
    "import time\n",
    "import asyncio\n",
    "from aries_basic_controller.aries_controller import AriesAgentController\n",
    "    \n",
    "WEBHOOK_HOST = \"0.0.0.0\"\n",
    "WEBHOOK_PORT = 8052\n",
    "WEBHOOK_BASE = \"\"\n",
    "ADMIN_URL = \"http://bob-agent:8051\"\n",
    "\n",
    "agent_controller = AriesAgentController(admin_url=ADMIN_URL)"
   ]
  },
  {
   "cell_type": "code",
   "execution_count": null,
   "metadata": {},
   "outputs": [],
   "source": [
    "agent_controller.init_webhook_server(webhook_host=WEBHOOK_HOST,\n",
    "                                     webhook_port=WEBHOOK_PORT,\n",
    "                                     webhook_base=WEBHOOK_BASE)"
   ]
  },
  {
   "cell_type": "markdown",
   "metadata": {},
   "source": [
    "## 2. Listen for webhooks and register default listeners\n",
    "\n",
    "Everytime a webhook is received from the agent, the controller reemits the hook using [PyPubSub](https://pypubsub.readthedocs.io/en/v4.0.3/). The default listeners are used to update state and print logs."
   ]
  },
  {
   "cell_type": "code",
   "execution_count": null,
   "metadata": {},
   "outputs": [],
   "source": [
    "loop = asyncio.get_event_loop()\n",
    "loop.create_task(agent_controller.listen_webhooks())"
   ]
  },
  {
   "cell_type": "code",
   "execution_count": null,
   "metadata": {},
   "outputs": [],
   "source": [
    "def get_menu_handler(payload):\n",
    "    print(f\"Get Active Menu Webhook: {payload}\")\n",
    "\n",
    "'''\n",
    "when a menu action is performed, the handler should contain business\n",
    "logic to handling and executing that action specifically.\n",
    "'''\n",
    "def perform_menu_handler(payload):\n",
    "    print(\"Perform Menu Action Webhook: \", payload)\n",
    "    # custom business logic here\n",
    "\n",
    "get_menu_listener = {\n",
    "    \"topic\": \"get-active-menu\",\n",
    "    \"handler\": get_menu_handler\n",
    "}\n",
    "\n",
    "perform_menu_listener = {\n",
    "    \"topic\": \"perform-menu-action\",\n",
    "    \"handler\": perform_menu_handler\n",
    "}\n",
    "\n",
    "agent_controller.register_listeners([get_menu_listener, perform_menu_listener], defaults=True)"
   ]
  },
  {
   "cell_type": "markdown",
   "metadata": {},
   "source": [
    "## 3. Check the agent has an active connection\n",
    "\n",
    "An active connection between Alice and Bob is required. You can either:\n",
    "\n",
    "- complete the [Establishing a Connection](http://localhost:8888/lab/tree/1%20Basic%20Concepts%20and%201st%20Connection/Part%203%20-%20Establishing%20a%20Connection.ipynb) tutorial, or\n",
    "- running the python script `create_connection.py` in the setup folder"
   ]
  },
  {
   "cell_type": "code",
   "execution_count": null,
   "metadata": {},
   "outputs": [],
   "source": [
    "response = await agent_controller.connections.get_connections()\n",
    "results = response['results']\n",
    "print(\"Results : \", results)\n",
    "if len(results) > 0:\n",
    "    connection = response['results'][0]\n",
    "    print(\"Connection :\", connection)\n",
    "    if connection['state'] == 'active':       \n",
    "        connection_id = connection[\"connection_id\"]\n",
    "        print(\"Active Connection ID : \", connection_id)\n",
    "else:\n",
    "    print(\"You must create a connection\")"
   ]
  },
  {
   "cell_type": "markdown",
   "metadata": {},
   "source": [
    "## 6. Send Action Menu to Alice\n",
    "\n",
    "Bob responds to Alice's request by sending over the action menu that Bob supports."
   ]
  },
  {
   "cell_type": "code",
   "execution_count": null,
   "metadata": {},
   "outputs": [],
   "source": [
    "# feel free to edit the menu options.\n",
    "menu_options = [\n",
    "      {\n",
    "        \"name\": \"faber_college_actions\",\n",
    "        \"title\": \"Faber College Actions\",\n",
    "        \"description\": \"Faber College Actions\",\n",
    "        \"disabled\": \"False\",\n",
    "        \"form\": {\n",
    "          \"title\": \"Actions\",\n",
    "          \"description\": \"Faber College Actions\",\n",
    "          \"params\": [{\n",
    "              \"name\": \"remove_cred_exchange_record\",\n",
    "              \"title\": \"Remove Credential Exchange Record\",\n",
    "              \"type\": \"boolean\",\n",
    "              \"required\": False\n",
    "          }, {\n",
    "              \"name\": \"begin_issue_cred\",\n",
    "              \"title\": \"Begin Issue Credential\",\n",
    "              \"type\": \"boolean\",\n",
    "              \"required\": False\n",
    "          }],\n",
    "          \"submit-label\": \"Send\"\n",
    "        }\n",
    "      }\n",
    "    ]\n",
    "\n",
    "await agent_controller.action_menu.send_menu(\n",
    "    connection_id=connection_id,\n",
    "    menu_description=\"Menu for performing actions with Faber College\",\n",
    "    menu_errormsg=\"Error: something went wrong\",\n",
    "    menu_title=\"Faber College Action Menu\",\n",
    "    menu_options=menu_options\n",
    ")"
   ]
  },
  {
   "cell_type": "markdown",
   "metadata": {},
   "source": [
    "## 7. Continue with step 8 of [Alice's notebook](http://localhost:8889/lab/tree/5%20Advanced%20Concepts/Part%201%20-%20Action%20Menu.ipynb)"
   ]
  },
  {
   "cell_type": "markdown",
   "metadata": {},
   "source": [
    "## End of Tutorial\n",
    "\n",
    "Be sure to terminate the controller before running another tutorial."
   ]
  },
  {
   "cell_type": "code",
   "execution_count": null,
   "metadata": {},
   "outputs": [],
   "source": [
    "response = await agent_controller.terminate()\n",
    "print(response)"
   ]
  },
  {
   "cell_type": "code",
   "execution_count": null,
   "metadata": {},
   "outputs": [],
   "source": []
  }
 ],
 "metadata": {
  "kernelspec": {
   "display_name": "Python 3",
   "language": "python",
   "name": "python3"
  },
  "language_info": {
   "codemirror_mode": {
    "name": "ipython",
    "version": 3
   },
   "file_extension": ".py",
   "mimetype": "text/x-python",
   "name": "python",
   "nbconvert_exporter": "python",
   "pygments_lexer": "ipython3",
   "version": "3.8.5"
  }
 },
 "nbformat": 4,
 "nbformat_minor": 4
}
