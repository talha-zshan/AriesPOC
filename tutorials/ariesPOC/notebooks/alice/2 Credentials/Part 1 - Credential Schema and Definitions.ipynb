{
 "cells": [
  {
   "cell_type": "markdown",
   "metadata": {},
   "source": [
    "# Credential Schema and Definitions\n",
    "\n",
    "A credential schema has a name and version and defines a set of attribute names that once written to the ledger can be used to issue credentials following that schema. First though, all agents wishing to issue credentials following a particular schema must write a credential definition (also called claim definition) to the ledger. The credential definition is the public key for a specific agent for a specific credential schema, currently Hyperledger stack uses [CL Signatures](https://groups.csail.mit.edu/cis/pubs/lysyanskaya/cl02b.pdf). By using this type of signature scheme we are able to sign each attribute in the credential individually, making selective disclosure and efficient zero knowledge proof generation from attributes possible.\n",
    "\n",
    "Here is an example written on the Sovrin MainNet:\n",
    "* [Credential Schema](https://indyscan.io/tx/SOVRIN_MAINNET/domain/54679)\n",
    "* [Credential Definition](https://indyscan.io/tx/SOVRIN_MAINNET/domain/54680)\n",
    "\n",
    "**It is important to keep in mind that only Public DIDs with write access to the ledger are able to write transactions such as schema or definitions to the ledger. The Sovrin MainNet for example is a public permissioned network.**\n",
    "\n",
    "In this notebook we will see how to use the AriesAgentController to write credential schema and definitions to the ledger and learn some important restrictions to be aware of."
   ]
  },
  {
   "cell_type": "markdown",
   "metadata": {},
   "source": [
    "## 1. Instantiate the Controller"
   ]
  },
  {
   "cell_type": "code",
   "execution_count": null,
   "metadata": {},
   "outputs": [],
   "source": [
    "%autoawait\n",
    "import time\n",
    "import asyncio\n",
    "from aries_basic_controller.aries_controller import AriesAgentController\n",
    "    \n",
    "WEBHOOK_HOST = \"0.0.0.0\"\n",
    "WEBHOOK_PORT = 8022\n",
    "WEBHOOK_BASE = \"\"\n",
    "ADMIN_URL = \"http://alice-agent:8021\"\n",
    "\n",
    "# WARNING: You should use environment variables for this\n",
    "# TODO: Make env variables accessible through juypter notebooks\n",
    "API_KEY = \"alice_api_123456789\"\n",
    "\n",
    "# Based on the aca-py agent you wish to control\n",
    "agent_controller = AriesAgentController(admin_url=ADMIN_URL, api_key=API_KEY)\n"
   ]
  },
  {
   "cell_type": "code",
   "execution_count": null,
   "metadata": {},
   "outputs": [],
   "source": [
    "agent_controller.init_webhook_server(webhook_host=WEBHOOK_HOST,\n",
    "                                     webhook_port=WEBHOOK_PORT,\n",
    "                                     webhook_base=WEBHOOK_BASE)"
   ]
  },
  {
   "cell_type": "markdown",
   "metadata": {},
   "source": [
    "## 2. Define schema arguments\n",
    "\n",
    "These can be anything you want. Be Creative :)"
   ]
  },
  {
   "cell_type": "code",
   "execution_count": null,
   "metadata": {},
   "outputs": [],
   "source": [
    "# Define you schema name - must be unique on the ledger\n",
    "schema_name = \"alice_test_schema\"\n",
    "# Can version the schema if you wish to update it\n",
    "schema_version = \"0.0.1\"\n",
    "# Define any list of attributes you wish to include in your schema\n",
    "attributes = [\"name\", \"skill\"]\n"
   ]
  },
  {
   "cell_type": "markdown",
   "metadata": {},
   "source": [
    "## 3. Write the Schema to Ledger\n",
    "\n",
    "A schema with the same name can only be written to the ledger once. You will not be able to run this block twice."
   ]
  },
  {
   "cell_type": "code",
   "execution_count": null,
   "metadata": {},
   "outputs": [],
   "source": [
    "response = await agent_controller.schema.write_schema(schema_name, attributes, schema_version)\n",
    "schema_id = response[\"schema_id\"]\n",
    "print(schema_id)"
   ]
  },
  {
   "cell_type": "markdown",
   "metadata": {},
   "source": [
    "## 4. Write a credential definition for this schema\n",
    "\n",
    "It is only possible to write a single credential definition per schema per public DID to the ledger. However, [Bob](http://localhost:8889/lab/tree/2%20Credentials/Part%202%20-%20Issue%20Credentials.ipynb) is also able to write a credential definition for the schema if he wants. Feel free to copy the schema_id across and give it a try in a new notebook.\n",
    "\n",
    "#### Arguments\n",
    "* schema_id - you need to pass in one of these and it must exist on the ledger\n",
    "* tag - tag to identity the definition later, defaults to default\n",
    "* support_revocation - Determines whether you will be able to later revoke the credential, defaults to False\n",
    "\n",
    "**Note: You should be able to see these transactions on the local network [here](http://localhost:9000/browse/domain)**"
   ]
  },
  {
   "cell_type": "code",
   "execution_count": null,
   "metadata": {},
   "outputs": [],
   "source": [
    "response = await agent_controller.definitions.write_cred_def(schema_id)\n",
    "\n",
    "cred_def_id = response[\"credential_definition_id\"]\n",
    "print(cred_def_id)"
   ]
  },
  {
   "cell_type": "markdown",
   "metadata": {},
   "source": [
    "## 5. Update the Schema\n",
    "\n",
    "You can update a schema on the ledger by changing the version."
   ]
  },
  {
   "cell_type": "code",
   "execution_count": null,
   "metadata": {},
   "outputs": [],
   "source": [
    "attributes = [\"name\", \"dob\", \"skill\"]\n",
    "schema_version = \"0.0.2\"\n",
    "response = await agent_controller.schema.write_schema(schema_name, attributes, schema_version)\n",
    "updated_schema_id = response[\"schema_id\"]\n",
    "print(updated_schema_id)"
   ]
  },
  {
   "cell_type": "markdown",
   "metadata": {},
   "source": [
    "## 6. Write another Credential Definition for the Updated Schema\n",
    "\n",
    "Alice will now be able to issue credentials using both versions of the credential schema. Although, as a verifier you probably will expect all credentials presented to be of the latest version schema written to the ledger."
   ]
  },
  {
   "cell_type": "code",
   "execution_count": null,
   "metadata": {},
   "outputs": [],
   "source": [
    "response = await agent_controller.definitions.write_cred_def(updated_schema_id, support_revocation=True)\n",
    "\n",
    "updated_cred_def_id = response[\"credential_definition_id\"]\n",
    "print(updated_cred_def_id)"
   ]
  },
  {
   "cell_type": "markdown",
   "metadata": {},
   "source": [
    "## Additional Methods\n",
    "\n",
    "Typically all you will care about is using the schema and definitions controller to write them to the ledger. The api also includes some additional helper methods that you might include in more complex flows."
   ]
  },
  {
   "cell_type": "markdown",
   "metadata": {},
   "source": [
    "## Get Schema By ID"
   ]
  },
  {
   "cell_type": "code",
   "execution_count": null,
   "metadata": {},
   "outputs": [],
   "source": [
    "schema = await agent_controller.schema.get_by_id(schema_id)\n",
    "print(schema)"
   ]
  },
  {
   "cell_type": "markdown",
   "metadata": {},
   "source": [
    "## Get Created definition by id\n",
    "\n",
    "As you can see it contains a bunch of BIG numbers all defined in the signature scheme. Notice that 'r' contains numbers for name, skill and master_secret, all attributes within the credential schema. (All credential schemas contain a master_secret attribute to identify the holder of the credential, it is blindly signed by the issuer). "
   ]
  },
  {
   "cell_type": "code",
   "execution_count": null,
   "metadata": {},
   "outputs": [],
   "source": [
    "definition = await agent_controller.definitions.get_by_id(cred_def_id)\n",
    "print(definition)"
   ]
  },
  {
   "cell_type": "markdown",
   "metadata": {},
   "source": [
    "## Search ledger for schema\n",
    "\n",
    "This might be used by applications that want to ensure they are using the latest version of a particular schema that they know the name of. \n",
    "\n",
    "### Returns a list of schema ids\n",
    "\n",
    "#### Arguments:\n",
    "* schema_id - if searching for a particular set of scheme (many versions)\n",
    "* schema_issuer_did - returns a set of schema created by a particular DID. Defaults to the agents DID\n",
    "* schema_name - name of schema you are looking for\n",
    "* schema_version - particular version of a schema"
   ]
  },
  {
   "cell_type": "code",
   "execution_count": null,
   "metadata": {},
   "outputs": [],
   "source": [
    "created_schema = await agent_controller.schema.get_created_schema()\n",
    "print(created_schema)"
   ]
  },
  {
   "cell_type": "code",
   "execution_count": null,
   "metadata": {},
   "outputs": [],
   "source": [
    "created_schema = await agent_controller.schema.get_created_schema(schema_id=schema_id)\n",
    "print(created_schema)"
   ]
  },
  {
   "cell_type": "code",
   "execution_count": null,
   "metadata": {},
   "outputs": [],
   "source": [
    "created_schema = await agent_controller.schema.get_created_schema(schema_version='0.0.1')\n",
    "print(created_schema)"
   ]
  },
  {
   "cell_type": "code",
   "execution_count": null,
   "metadata": {},
   "outputs": [],
   "source": [
    "\n",
    "created_schema = await agent_controller.schema.get_created_schema(schema_issuer_did='PQRXDxdGqQGSZ8z69p4xZP')\n",
    "print(created_schema)"
   ]
  },
  {
   "cell_type": "markdown",
   "metadata": {},
   "source": [
    "## Search all definitions created on the ledger\n",
    "\n",
    "#### Optional Arguments\n",
    "* schema_id\n",
    "* schema_issuer_did\n",
    "* schema_version\n",
    "* schema_name\n",
    "* issuer_did\n",
    "* cred_def_id"
   ]
  },
  {
   "cell_type": "code",
   "execution_count": null,
   "metadata": {},
   "outputs": [],
   "source": [
    "definitions = await agent_controller.definitions.search_created(cred_def_id=cred_def_id)\n",
    "print(definitions)"
   ]
  },
  {
   "cell_type": "markdown",
   "metadata": {},
   "source": [
    "## End of Tutorial\n",
    "\n",
    "Be sure to terminate the controller so you can run another tutorial."
   ]
  },
  {
   "cell_type": "code",
   "execution_count": null,
   "metadata": {},
   "outputs": [],
   "source": [
    "response = await agent_controller.terminate()\n",
    "print(response)"
   ]
  },
  {
   "cell_type": "code",
   "execution_count": null,
   "metadata": {},
   "outputs": [],
   "source": []
  }
 ],
 "metadata": {
  "kernelspec": {
   "display_name": "Python 3",
   "language": "python",
   "name": "python3"
  },
  "language_info": {
   "codemirror_mode": {
    "name": "ipython",
    "version": 3
   },
   "file_extension": ".py",
   "mimetype": "text/x-python",
   "name": "python",
   "nbconvert_exporter": "python",
   "pygments_lexer": "ipython3",
   "version": "3.8.5"
  },
  "pycharm": {
   "stem_cell": {
    "cell_type": "raw",
    "metadata": {
     "collapsed": false
    },
    "source": []
   }
  }
 },
 "nbformat": 4,
 "nbformat_minor": 4
}
