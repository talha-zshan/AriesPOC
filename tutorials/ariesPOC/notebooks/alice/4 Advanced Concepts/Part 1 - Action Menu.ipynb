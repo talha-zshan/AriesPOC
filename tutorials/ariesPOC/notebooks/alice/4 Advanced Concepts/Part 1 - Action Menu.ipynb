{
 "cells": [
  {
   "cell_type": "markdown",
   "metadata": {},
   "source": [
    "# Action Menu - Alice\n",
    "\n",
    "## Role - Requester\n",
    "\n",
    "In this notebook we'll be going through the Action Menu Protocol. For details on the protocol, please refer to the [RFC](https://github.com/hyperledger/aries-rfcs/tree/master/features/0509-action-menu).\n",
    "\n",
    "A requirement for this protocol to work is an active DIDComm communication channel between Alice and Bob. To achieve that, you should have completed the [Establishing a Connection](http://localhost:8888/lab/tree/1%20Basic%20Concepts%20and%201st%20Connection/Part%203%20-%20Establishing%20a%20Connection.ipynb) tutorial."
   ]
  },
  {
   "cell_type": "markdown",
   "metadata": {},
   "source": [
    "## 1. Initialise Alice controller\n",
    "\n",
    "We begin by initializing the controller for the Alice agent."
   ]
  },
  {
   "cell_type": "code",
   "execution_count": null,
   "metadata": {},
   "outputs": [],
   "source": [
    "%autoawait\n",
    "import time\n",
    "import asyncio\n",
    "from aries_basic_controller.aries_controller import AriesAgentController\n",
    "    \n",
    "WEBHOOK_HOST = \"0.0.0.0\"\n",
    "WEBHOOK_PORT = 8022\n",
    "WEBHOOK_BASE = \"\"\n",
    "ADMIN_URL = \"http://alice-agent:8021\"\n",
    "\n",
    "# WARNING: You should use environment variables for this\n",
    "# TODO: Make env variables accessible through juypter notebooks\n",
    "API_KEY = \"alice_api_123456789\"\n",
    "\n",
    "# Based on the aca-py agent you wish to control\n",
    "agent_controller = AriesAgentController(admin_url=ADMIN_URL, api_key=API_KEY)\n",
    "    "
   ]
  },
  {
   "cell_type": "code",
   "execution_count": null,
   "metadata": {},
   "outputs": [],
   "source": [
    "agent_controller.init_webhook_server(webhook_host=WEBHOOK_HOST,\n",
    "                                     webhook_port=WEBHOOK_PORT,\n",
    "                                     webhook_base=WEBHOOK_BASE)"
   ]
  },
  {
   "cell_type": "markdown",
   "metadata": {},
   "source": [
    "## 2. Listen for webhooks and register default listeners\n",
    "\n",
    "Everytime a webhook is received from the agent, the controller reemits the hook using [PyPubSub](https://pypubsub.readthedocs.io/en/v4.0.3/). The default listeners are used to update state and print logs."
   ]
  },
  {
   "cell_type": "code",
   "execution_count": null,
   "metadata": {},
   "outputs": [],
   "source": [
    "loop = asyncio.get_event_loop()\n",
    "loop.create_task(agent_controller.listen_webhooks())"
   ]
  },
  {
   "cell_type": "code",
   "execution_count": null,
   "metadata": {},
   "outputs": [],
   "source": [
    "def actionmenu_handler(payload):\n",
    "    print(f\"Action Menu Webhook: {payload}\\n\")\n",
    "    menu = payload[\"menu\"]\n",
    "    print(f\"Menu: {menu}\\n\")\n",
    "    menu_options = payload[\"menu\"][\"options\"]\n",
    "    print(f\"Options: {menu_options}\")\n",
    "\n",
    "actionmenu_listener = {\n",
    "    \"topic\": \"actionmenu\",\n",
    "    \"handler\": actionmenu_handler\n",
    "}\n",
    "\n",
    "agent_controller.register_listeners([actionmenu_listener], defaults=True)"
   ]
  },
  {
   "cell_type": "markdown",
   "metadata": {},
   "source": [
    "## 3. Check the agent has an active connection\n",
    "\n",
    "An active connection between Alice and Bob is required. You can either:\n",
    "\n",
    "- complete the [Establishing a Connection](http://127.0.0.1:8888/notebooks/1%20Basic%20%20Concepts%20and%201st%20Connection/Part%203%20-%20Establishing%20a%20Connection.ipynb) tutorial, or\n",
    "- running the python script `create_connection.py` in the setup folder"
   ]
  },
  {
   "cell_type": "code",
   "execution_count": null,
   "metadata": {},
   "outputs": [],
   "source": [
    "response = await agent_controller.connections.get_connections()\n",
    "results = response['results']\n",
    "print(\"Results : \", results)\n",
    "if len(results) > 0:\n",
    "    connection = response['results'][0]\n",
    "    print(\"Connection :\", connection)\n",
    "    if connection['state'] == 'active':       \n",
    "        connection_id = connection[\"connection_id\"]\n",
    "        print(\"Active Connection ID : \", connection_id)\n",
    "else:\n",
    "    print(\"You must create a connection\")"
   ]
  },
  {
   "cell_type": "markdown",
   "metadata": {},
   "source": [
    "## 4. Request Action Menu from Bob\n",
    "\n",
    "Alice begins by making a request for the action menu from Bob."
   ]
  },
  {
   "cell_type": "code",
   "execution_count": null,
   "metadata": {},
   "outputs": [],
   "source": [
    "await agent_controller.action_menu.request_menu(connection_id)"
   ]
  },
  {
   "cell_type": "markdown",
   "metadata": {},
   "source": [
    "## 5. Continue with step 6 of [Bob's notebook](http://localhost:8889/lab/tree/5%20Advanced%20Concepts/Part%201%20-%20Action%20Menu.ipynb)"
   ]
  },
  {
   "cell_type": "markdown",
   "metadata": {},
   "source": [
    "## 8. Perform action upon receiving action menu\n",
    "\n",
    "Upon receiving the action menu from Bob, Alice can now perform an action."
   ]
  },
  {
   "cell_type": "code",
   "execution_count": null,
   "metadata": {},
   "outputs": [],
   "source": [
    "# retrieve the menu options sent from Bob\n",
    "menu = await agent_controller.action_menu.get_menu(connection_id)\n",
    "menu"
   ]
  },
  {
   "cell_type": "code",
   "execution_count": null,
   "metadata": {},
   "outputs": [],
   "source": [
    "menu_options = menu[\"result\"][\"options\"]\n",
    "menu_options"
   ]
  },
  {
   "cell_type": "code",
   "execution_count": null,
   "metadata": {},
   "outputs": [],
   "source": [
    "# as an example, we work with the first menu option\n",
    "menu_params = {\n",
    "    \"begin_issue_cred\": \"True\"\n",
    "}\n",
    "\n",
    "await agent_controller.action_menu.perform(\n",
    "    connection_id=connection_id,\n",
    "    menu_params=menu_params,\n",
    "    menu_option_name=menu_options[0][\"name\"]\n",
    ")"
   ]
  },
  {
   "cell_type": "markdown",
   "metadata": {},
   "source": [
    "## 9. Close the active menu\n",
    "\n",
    "Once the requester is done with the action menu, the menu can now be closed."
   ]
  },
  {
   "cell_type": "code",
   "execution_count": null,
   "metadata": {},
   "outputs": [],
   "source": [
    "# close active menu\n",
    "await agent_controller.action_menu.close_menu(connection_id)"
   ]
  },
  {
   "cell_type": "markdown",
   "metadata": {},
   "source": [
    "Retrieving the active menu now would return `None`."
   ]
  },
  {
   "cell_type": "code",
   "execution_count": null,
   "metadata": {},
   "outputs": [],
   "source": [
    "menu = await agent_controller.action_menu.get_menu(connection_id)\n",
    "menu"
   ]
  },
  {
   "cell_type": "markdown",
   "metadata": {},
   "source": [
    "## End of Tutorial\n",
    "\n",
    "Be sure to terminate the controller before running another tutorial."
   ]
  },
  {
   "cell_type": "code",
   "execution_count": null,
   "metadata": {},
   "outputs": [],
   "source": [
    "response = await agent_controller.terminate()\n",
    "print(response)"
   ]
  },
  {
   "cell_type": "code",
   "execution_count": null,
   "metadata": {},
   "outputs": [],
   "source": []
  }
 ],
 "metadata": {
  "kernelspec": {
   "display_name": "Python 3",
   "language": "python",
   "name": "python3"
  },
  "language_info": {
   "codemirror_mode": {
    "name": "ipython",
    "version": 3
   },
   "file_extension": ".py",
   "mimetype": "text/x-python",
   "name": "python",
   "nbconvert_exporter": "python",
   "pygments_lexer": "ipython3",
   "version": "3.8.5"
  }
 },
 "nbformat": 4,
 "nbformat_minor": 4
}
