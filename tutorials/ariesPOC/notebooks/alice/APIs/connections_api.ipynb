{
 "cells": [
  {
   "cell_type": "markdown",
   "metadata": {
    "pycharm": {
     "name": "#%% md\n"
    }
   },
   "source": [
    "# Aries Basic Controller Example\n",
    "## Controllers Api\n",
    "\n",
    "This can be used to make connections between two aries agents.\n",
    "\n",
    "A connection invitation must be created by Alice which is then copied to Bob's notebook to accept the invitation request.\n",
    "\n",
    "Once Bob accepted the invitation, Alice can accept the invitation response from Bob.\n",
    "\n",
    "This creates a pairwise relationship between Alice and Bob that is end-to-end encrypted and a trust channel between them for exchanging basic messages or verifiable credentials."
   ]
  },
  {
   "cell_type": "code",
   "execution_count": null,
   "metadata": {
    "pycharm": {
     "name": "#%%\n"
    }
   },
   "outputs": [],
   "source": [
    "%autoawait\n",
    "import time\n",
    "import asyncio"
   ]
  },
  {
   "cell_type": "code",
   "execution_count": null,
   "metadata": {
    "pycharm": {
     "name": "#%%\n"
    }
   },
   "outputs": [],
   "source": [
    "from aries_basic_controller.aries_controller import AriesAgentController\n",
    "\n",
    "WEBHOOK_HOST = \"0.0.0.0\"\n",
    "WEBHOOK_PORT = 8022\n",
    "WEBHOOK_BASE = \"\"\n",
    "ADMIN_URL = \"http://alice-agent:8021\"\n",
    "API_KEY = \"alice_api_123456789\"\n",
    "\n",
    "# Based on the aca-py agent you wish to control\n",
    "agent_controller = AriesAgentController(admin_url=ADMIN_URL, api_key=API_KEY)\n",
    "\n"
   ]
  },
  {
   "cell_type": "code",
   "execution_count": null,
   "metadata": {},
   "outputs": [],
   "source": [
    "agent_controller.init_webhook_server(webhook_host=WEBHOOK_HOST,\n",
    "                                     webhook_port=WEBHOOK_PORT,\n",
    "                                     webhook_base=WEBHOOK_BASE)"
   ]
  },
  {
   "cell_type": "markdown",
   "metadata": {},
   "source": [
    "### Pairwise Connection Record Parameters (`/connections`)\n",
    "\n",
    " * `connection_id`: the unique connection identifier\n",
    " * `state`: `init` / `invitation` / `request` / `response` / `active` / `error` / `inactive`\n",
    " * `my_did`: the DID this agent is using in the connection\n",
    " * `their_did`: the DID the other agent in the connection is using\n",
    " * `their_label`: a connection label provided by the other agent\n",
    " * `their_role`: a role assigned to the other agent in the connection\n",
    " * `inbound_connection_id`: a connection identifier for the related inbound routing connection\n",
    " * `initiator`: `self` / `external` / `multiuse`\n",
    " * `invitation_key`: a verification key used to identify the source connection invitation\n",
    " * `request_id`: the `@id` property from the connection request message\n",
    " * `routing_state`: `none` / `request` / `active` / `error`\n",
    " * `accept`: `manual` / `auto`\n",
    " * `error_msg`: the most recent error message\n",
    " * `invitation_mode`: `once` / `multi`\n",
    " * `alias`: a local alias for the connection record\n",
    "\n",
    "### Create invitation request that can be passed to Bob"
   ]
  },
  {
   "cell_type": "code",
   "execution_count": null,
   "metadata": {
    "pycharm": {
     "name": "#%%\n"
    }
   },
   "outputs": [],
   "source": [
    "# Create Invitation\n",
    "invite = await agent_controller.connections.create_invitation()\n",
    "connection_id = invite[\"connection_id\"]\n",
    "print(\"Connection ID\", connection_id)\n",
    "print(\"Invitation\")\n",
    "print(invite)"
   ]
  },
  {
   "cell_type": "markdown",
   "metadata": {
    "pycharm": {
     "name": "#%% md\n"
    }
   },
   "source": [
    "### Example of accepting the invitation from the Alice [notebook](localhost:8088) in Bob's [notebook](localhost:8089);\n",
    "Copy the invitation request above to Bob's [notebook](localhost:8089)"
   ]
  },
  {
   "cell_type": "code",
   "execution_count": null,
   "metadata": {
    "pycharm": {
     "name": "#%%\n"
    }
   },
   "outputs": [],
   "source": [
    "#Paste in invitation from Alice agent\n",
    "invite =  {'connection_id': 'a3792fc1-bf4a-4418-8a4d-88026714da25', 'invitation': {'@type': 'did:sov:BzCbsNYhMrjHiqZDTUASHg;spec/connections/1.0/invitation', '@id': '2d4d1711-8836-4b5b-a377-3254cea83cdd', 'serviceEndpoint': 'http://172.17.0.1:8020', 'label': 'Bob', 'recipientKeys': ['BhS8DZxNSCn3K2kfoKWZ2ttEsAvmNaJ5gAkmsB161kiR']}, 'invitation_url': 'http://172.17.0.1:8020?c_i=eyJAdHlwZSI6ICJkaWQ6c292OkJ6Q2JzTlloTXJqSGlxWkRUVUFTSGc7c3BlYy9jb25uZWN0aW9ucy8xLjAvaW52aXRhdGlvbiIsICJAaWQiOiAiMmQ0ZDE3MTEtODgzNi00YjViLWEzNzctMzI1NGNlYTgzY2RkIiwgInNlcnZpY2VFbmRwb2ludCI6ICJodHRwOi8vMTcyLjE3LjAuMTo4MDIwIiwgImxhYmVsIjogIkJvYiIsICJyZWNpcGllbnRLZXlzIjogWyJCaFM4RFp4TlNDbjNLMmtmb0tXWjJ0dEVzQXZtTmFKNWdBa21zQjE2MWtpUiJdfQ=='}"
   ]
  },
  {
   "cell_type": "markdown",
   "metadata": {},
   "source": [
    "### Accept the invitation, then move to Alice's notebook"
   ]
  },
  {
   "cell_type": "code",
   "execution_count": null,
   "metadata": {
    "pycharm": {
     "name": "#%%\n"
    }
   },
   "outputs": [],
   "source": [
    "# Receive Invitation\n",
    "response = await agent_controller.connections.accept_connection(invite[\"invitation\"])\n",
    "# Print out accepted Invite and Alice's connection ID\n",
    "print(\"Connection\", response)\n",
    "alice_id = response[\"connection_id\"]"
   ]
  },
  {
   "cell_type": "markdown",
   "metadata": {
    "pycharm": {
     "name": "#%% md\n"
    }
   },
   "source": [
    "### Accept Request for Connection by Alice"
   ]
  },
  {
   "cell_type": "code",
   "execution_count": null,
   "metadata": {
    "pycharm": {
     "name": "#%%\n"
    }
   },
   "outputs": [],
   "source": [
    "# Accept Request for Invite created\n",
    "connection = await agent_controller.connections.accept_request(connection_id)\n",
    "print(\"ACCEPT REQUEST\")\n",
    "print(connection)\n",
    "print(\"state\", connection[\"state\"])"
   ]
  },
  {
   "cell_type": "markdown",
   "metadata": {
    "pycharm": {
     "name": "#%% md\n"
    }
   },
   "source": [
    "### Get Connections List"
   ]
  },
  {
   "cell_type": "markdown",
   "metadata": {},
   "source": [
    "### Get Connection by Connection ID"
   ]
  },
  {
   "cell_type": "markdown",
   "metadata": {},
   "source": [
    "### Accept Request for Connection by Alice"
   ]
  },
  {
   "cell_type": "markdown",
   "metadata": {},
   "source": [
    "### Establish Inbound Connection"
   ]
  },
  {
   "cell_type": "markdown",
   "metadata": {},
   "source": [
    "### Remove Connection"
   ]
  },
  {
   "cell_type": "markdown",
   "metadata": {},
   "source": [
    "### Receive Invitation"
   ]
  },
  {
   "cell_type": "markdown",
   "metadata": {},
   "source": [
    "### Accept Connection\n",
    "Custom method that combines receive and accept connection methods"
   ]
  },
  {
   "cell_type": "markdown",
   "metadata": {},
   "source": [
    "### Default Handler\n",
    "\n"
   ]
  }
 ],
 "metadata": {
  "kernelspec": {
   "display_name": "Python 3",
   "language": "python",
   "name": "python3"
  },
  "language_info": {
   "codemirror_mode": {
    "name": "ipython",
    "version": 3
   },
   "file_extension": ".py",
   "mimetype": "text/x-python",
   "name": "python",
   "nbconvert_exporter": "python",
   "pygments_lexer": "ipython3",
   "version": "3.8.5"
  }
 },
 "nbformat": 4,
 "nbformat_minor": 4
}
