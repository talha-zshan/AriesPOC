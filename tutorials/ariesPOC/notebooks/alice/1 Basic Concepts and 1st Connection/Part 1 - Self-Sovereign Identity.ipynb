{
 "cells": [
  {
   "cell_type": "markdown",
   "metadata": {},
   "source": [
    "\n",
    "\n",
    "\n",
    "\n",
    "\n",
    "\n",
    "# Self-Sovereign Identity\n",
    "\n",
    "Welcome to the OpenMined tutorial designed to teach you the basics of a new approach for digital identification, authorisation and authentication commonly referred to as Self-Sovereign Identity (SSI).\n",
    "\n",
    "This notebook aims to give a brief introduction to SSI and why we think it is important. For those new to these concepts further material will be linked throughout the tutorial.\n",
    "\n",
    "By the end of this tutorial we hope you will have a strong grounding in the capabilities of SSI and the ability to use them in your own applications by leveraging the library we have developed.  \n",
    "\n",
    "If you want to dive straight into the code start here:\n",
    "* [Part 2 - Aries Basic Controller](http://localhost:8888/lab/tree/1%20Basic%20Concepts%20and%201st%20Connection/Part%202%20-%20Aries%20Basic%20Controller.ipynb)"
   ]
  },
  {
   "cell_type": "markdown",
   "metadata": {},
   "source": [
    "## Why Take this Tutorial?\n",
    "\n",
    "This tutorial is for anyone looking to deepen their knowledge of Self-Sovereign Identity systems. \n",
    "\n",
    "It should give you an understanding of:\n",
    "\n",
    "* The mental model of Issuer, Verifier and Holder\n",
    "* An understanding of the Hyperledger technical stack for SSI: Indy/Ursa/Aries\n",
    "* An understanding of the Aries Basic Controller library we have developed\n",
    "* The skills needed to start experimenting with SSI in your workflows"
   ]
  },
  {
   "cell_type": "markdown",
   "metadata": {},
   "source": [
    "## What is SSI?\n",
    "\n",
    "SSI is term used to loosely describe an emerging set of standards and technologies focused on enabling identification, authentication and authorisation between peers without requiring a trusted third party (Identity Provider) to mediate the interaction. As this often compromises privacy (think Facebook Connect).\n",
    "\n",
    "The two key specifications in this space are:\n",
    "* [Decentralised Identifiers (DIDs)](https://w3c.github.io/did-core/) - Self-authenticating identifiers that must be resolvable to a DID Document containing a set of cryptographic keys and communication endpoints. Have a look at the following lecture to get a better idea!:\n",
    "https://www.youtube.com/watch?v=Jcfy9wd5bZI  \n",
    "* [Verifiable Credential Data Model](https://w3c.github.io/vc-data-model/) - A data model for a set of Verifiable Claims.\n",
    "\n",
    "Although many others are emerging in forums such as:\n",
    "\n",
    "* [W3C Credentials Community Group](https://w3c-ccg.github.io/)\n",
    "* [Decentralized Identity Foundation](https://identity.foundation/)\n",
    "\n",
    "\n",
    "### Further Material\n",
    "* [The Story of Open SSI Standards (webinar)](https://ssimeetup.org/story-open-ssi-standards-drummond-reed-evernym-webinar-1/) - Great place to start for those new to these concepts.\n",
    "* [Security Without Identification](https://www.cs.ru.nl/~jhh/pub/secsem/chaum1985bigbrother.pdf) - A 1985 paper by David Chaum that outlines the need to privacy-preserving mechanisms for identification and authentication that is remarkably consistent with what we call SSI today."
   ]
  },
  {
   "cell_type": "markdown",
   "metadata": {},
   "source": [
    "## Why SSI?\n",
    "\n",
    "You might be thinking what has this got to do with OpenMined and privacy-preserving machine learning ...\n",
    "\n",
    "We believe there are a lot of synergies that are worth exploring between PPML and SSI. Primarily how can SSI enable identification, authentication and authorisation of the communication channels between participants in PPML flows. In particular we are interested in the use of the [DIDComm protocol](https://github.com/decentralized-identity/didcomm-messaging) as a mechanism to connect peers within a PPML workflow and enable them to both request and present attributes about themselves in order to establish the appropriate level of trust before initiating the PPML messaging flows, potentially across the same DIDComm channels.\n",
    "\n",
    "Additionally, SSI is a key driver for getting data out of silos and into the hands of entities able to contribute it to PPML."
   ]
  },
  {
   "cell_type": "markdown",
   "metadata": {},
   "source": [
    "## Why Hyperledger?\n",
    "\n",
    "We have chosen to focus on the Hyperledger stack of Indy/Ursa/Aries for a number of reasons. \n",
    "* It is open source\n",
    "* It leverages privacy-preserving anonymous credential cryptography\n",
    "* It is well documented (mostly)\n",
    "* It supports DIDComm and Peer DID's\n",
    "* It is actively under development by a large group of stakeholders\n",
    "* It is the stack we are most familiar with\n",
    "\n",
    "**Disclaimer: We believe this stack to be best suited to the OpenMined community at this point, however this is a new and fast moving space and are always open to exploring other approaches.**"
   ]
  },
  {
   "cell_type": "markdown",
   "metadata": {},
   "source": [
    "## The Hyperledger SSI Stack\n",
    "\n",
    "![the stack](https://image.slidesharecdn.com/webinar30hyperledgerariesnathangeorge-190620221016/95/hyperledger-aries-open-source-interoperable-identity-solution-nathan-george-8-638.jpg?cb=1561069028)\n",
    "\n",
    "The hyperledger stack consists of three layers - Indy, Ursa and Aries. This is explored in a lot more detail in this EdX course: [Introduction to Hyperledger Sovereign Identity Blockchain Solutions: Indy, Aries & Ursa](https://www.edx.org/course/identity-in-hyperledger-aries-indy-and-ursa). It's a great place to start for beginners.\n",
    "\n",
    "### Hyperledger Indy\n",
    "\n",
    "Hyperledger Indy is responsibly for maintaining the distributed ledger. It consists of two libraries:\n",
    "* [indy-node](https://github.com/hyperledger/indy-node) - the code for running a ledger node\n",
    "* [indy-plenum](https://github.com/hyperledger/indy-plenum) - the consensus algorithm used by the ledger.\n",
    "\n",
    "It is possible to run a version of the ledger locally, or to use one of public ledgers currently running.\n",
    "\n",
    "* [IndyScan](https://indyscan.io/home/SOVRIN_MAINNET) - A ledger explorer for Hyperledger Indy ledgers currently covering the Sovrin MainNet, BuilderNet and StagingNet. \n",
    "* [What Goes on The Ledger](https://sovrin.org/wp-content/uploads/2017/04/What-Goes-On-The-Ledger.pdf) - A useful whitepaper describing what goes on the ledger and what does not.\n",
    "\n",
    "### Hyperledger Ursa\n",
    "\n",
    "[Hyperledger Ursa](https://github.com/hyperledger/ursa) is the core cryptography library for all Hyperledger projects. It is written in Rust and specific to SSI it includes the anonymous credential cryptography code for CL-RSA signatures. As well as BBS+ and PS signatures which are newer, faster signature schemes that have similar properties to CL signatures. Hopefully these will be integrated into the application layer soon.\n",
    "\n",
    "### Hyperledger Aries\n",
    "\n",
    "Hyperledger Aries deals with the application layer of the SSI stack. It is a set of specifications that define how to develop agents capable of leveraging the cryptography in Ursa and communicating with Indy ledgers enabling them to connect with peers, issue credentials, present proofs and verify proofs.\n",
    "\n",
    "* [Aries Rfcs](https://github.com/hyperledger/aries-rfcs) - A lot of great content in here. Throughout the tutorial we will refer to rfcs for specific protocols that we are using.\n",
    "\n",
    "These specifications, or some subset of them, can then be implemented in any language you choose. Some examples are:\n",
    "* [Aries Cloud Agent Python](https://github.com/hyperledger/aries-cloudagent-python) - A python implementation developed by the Government of Brittish Columbia. This is the code base we interact with throughout the tutorial.\n",
    "* [Aries Framework Dotnet](https://github.com/hyperledger/aries-framework-dotnet)\n",
    "* [Aries Framework Go](https://github.com/hyperledger/aries-framework-go)\n",
    "\n"
   ]
  }
 ],
 "metadata": {
  "kernelspec": {
   "display_name": "Python 3",
   "language": "python",
   "name": "python3"
  },
  "language_info": {
   "codemirror_mode": {
    "name": "ipython",
    "version": 3
   },
   "file_extension": ".py",
   "mimetype": "text/x-python",
   "name": "python",
   "nbconvert_exporter": "python",
   "pygments_lexer": "ipython3",
   "version": "3.8.5"
  }
 },
 "nbformat": 4,
 "nbformat_minor": 4
}
