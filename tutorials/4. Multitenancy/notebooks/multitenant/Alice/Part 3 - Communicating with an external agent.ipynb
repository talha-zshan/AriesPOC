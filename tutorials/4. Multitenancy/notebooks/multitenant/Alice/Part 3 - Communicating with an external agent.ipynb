{
 "cells": [
  {
   "cell_type": "markdown",
   "id": "beneficial-prefix",
   "metadata": {},
   "source": [
    "# Part 3 - Communicating with an external agent"
   ]
  },
  {
   "cell_type": "markdown",
   "id": "polyphonic-thursday",
   "metadata": {},
   "source": [
    "**!!! You should start this part in the [external agent notebook](http://localhost:8889/lab/workspaces/auto-w/tree/Configure%20External%20Agent.ipynb)**"
   ]
  },
  {
   "cell_type": "markdown",
   "id": "focused-titanium",
   "metadata": {},
   "source": [
    "### Initialise the multitenant controller"
   ]
  },
  {
   "cell_type": "code",
   "execution_count": null,
   "id": "loose-satin",
   "metadata": {},
   "outputs": [],
   "source": [
    "%autoawait\n",
    "import time\n",
    "import asyncio\n",
    "import pprint\n",
    "from aiohttp import ClientResponseError\n",
    "\n",
    "from aries_basic_controller.aries_tenant_controller import AriesTenantController\n",
    "\n",
    "# Create a small utility to print json formatted outout more human-readable    \n",
    "pp = pprint.PrettyPrinter(indent=4)\n",
    "\n",
    "WEBHOOK_HOST = \"0.0.0.0\"\n",
    "WEBHOOK_BASE = \"\"\n",
    "\n",
    "WEBHOOK_PORT = 8022\n",
    "ADMIN_URL = \"http://multitenant-agent:8021\"\n"
   ]
  },
  {
   "cell_type": "markdown",
   "id": "proprietary-powder",
   "metadata": {},
   "source": [
    "### Updating JWT of the agent controller"
   ]
  },
  {
   "cell_type": "markdown",
   "id": "innovative-fellow",
   "metadata": {},
   "source": [
    "Retrieve Alice's token we have stored previously"
   ]
  },
  {
   "cell_type": "code",
   "execution_count": null,
   "id": "vanilla-empire",
   "metadata": {},
   "outputs": [],
   "source": [
    "%store -r alice_jwt\n",
    "%store -r wallet_id_alice"
   ]
  },
  {
   "cell_type": "code",
   "execution_count": null,
   "id": "ordinary-exhibit",
   "metadata": {},
   "outputs": [],
   "source": [
    "print(alice_jwt)"
   ]
  },
  {
   "cell_type": "code",
   "execution_count": null,
   "id": "pointed-marina",
   "metadata": {},
   "outputs": [],
   "source": [
    "# Based on the aca-py agent you wish to control\n",
    "agent_controller = AriesTenantController(admin_url=ADMIN_URL, wallet_id=wallet_id_alice, tenant_jwt=alice_jwt)"
   ]
  },
  {
   "cell_type": "markdown",
   "id": "representative-washington",
   "metadata": {},
   "source": [
    "Now we can update the agent controller with the JWT Token"
   ]
  },
  {
   "cell_type": "code",
   "execution_count": null,
   "id": "absolute-walker",
   "metadata": {},
   "outputs": [],
   "source": [
    "agent_controller.update_tenant_jwt(alice_jwt, wallet_id_alice)"
   ]
  },
  {
   "cell_type": "markdown",
   "id": "elect-scope",
   "metadata": {},
   "source": [
    "Let's check it's really there"
   ]
  },
  {
   "cell_type": "code",
   "execution_count": null,
   "id": "arctic-authentication",
   "metadata": {},
   "outputs": [],
   "source": [
    "print(agent_controller.tenant_jwt)"
   ]
  },
  {
   "cell_type": "code",
   "execution_count": null,
   "id": "honey-plant",
   "metadata": {},
   "outputs": [],
   "source": [
    "def cred_handler(payload):\n",
    "    print(\"Handle Credentials\")\n",
    "    exchange_id = payload['credential_exchange_id']\n",
    "    state = payload['state']\n",
    "    role = payload['role']\n",
    "    attributes = payload['credential_proposal_dict']['credential_proposal']['attributes']\n",
    "    print(f\"Credential exchange {exchange_id}, role: {role}, state: {state}\")\n",
    "    print(f\"Offering: {attributes}\")\n",
    "    \n",
    "cred_listener = {\n",
    "    \"topic\": \"issue_credential\",\n",
    "    \"handler\": cred_handler\n",
    "}\n",
    "\n",
    "def connections_handler(payload):\n",
    "    global STATE\n",
    "    connection_id = payload[\"connection_id\"]\n",
    "    print(\"Connection message\", payload, connection_id)\n",
    "    STATE = payload['state']\n",
    "    if STATE == 'active':\n",
    "#         print('Connection {0} changed state to active'.format(connection_id))\n",
    "        print(colored(\"Connection {0} changed state to active\".format(connection_id), \"red\", attrs=[\"bold\"]))\n",
    "\n",
    "\n",
    "connection_listener = {\n",
    "    \"handler\": connections_handler,\n",
    "    \"topic\": \"connections\"\n",
    "}\n",
    "\n",
    "agent_controller.register_listeners([cred_listener,connection_listener], defaults=True)"
   ]
  },
  {
   "cell_type": "markdown",
   "id": "expanded-cartridge",
   "metadata": {},
   "source": [
    "### Go to the [external agent](http://localhost:8889/lab/workspaces/auto-w/tree/Configure%20External%20Agent.ipynb) before you continue, if you haven't already generated an invitation\n",
    "\n"
   ]
  },
  {
   "cell_type": "markdown",
   "id": "burning-dominican",
   "metadata": {},
   "source": [
    "### Accept Invite From external agent\n",
    "\n",
    "Replace the invitation object below with the one you have generated in the mediator notebook"
   ]
  },
  {
   "cell_type": "code",
   "execution_count": null,
   "id": "hundred-gasoline",
   "metadata": {},
   "outputs": [],
   "source": [
    "external_invitation = {'@type': 'did:sov:BzCbsNYhMrjHiqZDTUASHg;spec/connections/1.0/invitation', '@id': '83e7456b-0f15-42d9-80b5-2074d57c54ba', 'serviceEndpoint': 'https://16d921860d17.ngrok.io', 'label': 'EXTERNAL', 'recipientKeys': ['HTJ6VPVJ4XRhJnxiAK9EziTHs27tcyMkajqLLFEUBLBq']}"
   ]
  },
  {
   "cell_type": "code",
   "execution_count": null,
   "id": "ideal-hurricane",
   "metadata": {},
   "outputs": [],
   "source": [
    "response = await agent_controller.connections.accept_connection(external_invitation)\n",
    "pp.pprint(response)"
   ]
  },
  {
   "cell_type": "code",
   "execution_count": null,
   "id": "dutch-clarity",
   "metadata": {},
   "outputs": [],
   "source": [
    "connection_id = response[\"connection_id\"]\n",
    "print(connection_id)"
   ]
  },
  {
   "cell_type": "code",
   "execution_count": null,
   "id": "vanilla-intellectual",
   "metadata": {},
   "outputs": [],
   "source": [
    "### get the connection\n",
    "connection = await agent_controller.connections.get_connection(connection_id)\n",
    "print(connection)"
   ]
  },
  {
   "cell_type": "code",
   "execution_count": null,
   "id": "floppy-complex",
   "metadata": {},
   "outputs": [],
   "source": [
    "# Let's check for the state\n",
    "def check_connection(connection):\n",
    "    if connection['state'] != 'active':\n",
    "        print(\"No active connection. \\n\\nPlease go back and ensure you have established an active connection between the mediator agent and Alice's subwallet agent\\n\")    \n",
    "        print(\"State: \" + connection['state']+ \"\\n\")    \n",
    "    else:\n",
    "        print(\"Active connection established\\n\")\n",
    "        print(\"State: \" + connection['state']+ \"\\n\")    \n",
    "        pp.pprint(connection)\n",
    "\n",
    "check_connection(connection)"
   ]
  },
  {
   "cell_type": "markdown",
   "id": "streaming-playback",
   "metadata": {},
   "source": [
    "### Great! Well done, if you made it here. Head back to the notebook of the [external agent](http://localhost:8889/lab/workspaces/auto-w/tree/Configure%20External%20Agent.ipynb) and issue the credential."
   ]
  },
  {
   "cell_type": "markdown",
   "id": "cleared-tolerance",
   "metadata": {},
   "source": [
    "### Let's have a look at the records\n",
    "\n",
    "This should give us some results and our submitted record with the credentials for whomever you created in the external notebook should be in there. "
   ]
  },
  {
   "cell_type": "code",
   "execution_count": null,
   "id": "compliant-harvey",
   "metadata": {},
   "outputs": [],
   "source": [
    "response = await agent_controller.issuer.get_records()\n",
    "results = response[\"results\"]\n",
    "if len(results) == 0:\n",
    "    print(\"You need to first send a credential from the issuer notebook (external)\")\n",
    "else:\n",
    "    cred_record = results[0]\n",
    "    cred_ex_id = cred_record['credential_exchange_id']\n",
    "    state = cred_record['state']\n",
    "    role = cred_record['role']\n",
    "    attributes = results[0]['credential_proposal_dict']['credential_proposal']['attributes']\n",
    "    print(f\"Credential exchange {cred_ex_id}, role: {role}, state: {state}\")\n",
    "    print(f\"Being offered: {attributes}\")"
   ]
  },
  {
   "cell_type": "markdown",
   "id": "monthly-civilization",
   "metadata": {},
   "source": [
    "### Request Credential from Issuer\n",
    "If happy with the attributes being offered in the credential, then the holder requests the credential from the issuer to proceed with the issuance.\n",
    "\n",
    "It is only possible to request a credential from an exchange when it is in the offer_received state"
   ]
  },
  {
   "cell_type": "code",
   "execution_count": null,
   "id": "federal-effect",
   "metadata": {},
   "outputs": [],
   "source": [
    "try:\n",
    "    record = await agent_controller.issuer.send_request_for_record(cred_ex_id)\n",
    "    state = record['state']\n",
    "    role = record['role']\n",
    "    print(f\"Credential exchange {cred_ex_id}, role: {role}, state: {state}\")\n",
    "except ClientResponseError as err:\n",
    "    print(err)"
   ]
  },
  {
   "cell_type": "markdown",
   "id": "sonic-syntax",
   "metadata": {},
   "source": [
    "### Store the credential\n",
    "Once the issuer has responded to a request by sending the credential, the holder needs to store it to save the credential for later.\n",
    "\n",
    "First check that the credential record is in the credential_received state"
   ]
  },
  {
   "cell_type": "code",
   "execution_count": null,
   "id": "metropolitan-recipient",
   "metadata": {},
   "outputs": [],
   "source": [
    "record = await agent_controller.issuer.get_record_by_id(cred_ex_id)\n",
    "state = record['state']\n",
    "role = record['role']\n",
    "print(f\"Credential exchange {cred_ex_id}, role: {role}, state: {state}\")"
   ]
  },
  {
   "cell_type": "code",
   "execution_count": null,
   "id": "faced-warren",
   "metadata": {},
   "outputs": [],
   "source": [
    "try:\n",
    "    response = await agent_controller.issuer.store_credential(cred_ex_id, \"My OM Credential\")\n",
    "    state = response['state']\n",
    "    role = response['role']\n",
    "    print(f\"Credential exchange {cred_ex_id}, role: {role}, state: {state}\")\n",
    "except ClientResponseError as err:\n",
    "    print(err)"
   ]
  },
  {
   "cell_type": "markdown",
   "id": "presidential-visiting",
   "metadata": {},
   "source": [
    "### Great. You're done with this tutorial. \n",
    "\n",
    "Almost - just terminate the controller below."
   ]
  },
  {
   "cell_type": "code",
   "execution_count": null,
   "id": "young-netscape",
   "metadata": {},
   "outputs": [],
   "source": [
    "await agent_controller.terminate()"
   ]
  },
  {
   "cell_type": "code",
   "execution_count": null,
   "id": "commercial-coverage",
   "metadata": {},
   "outputs": [],
   "source": []
  }
 ],
 "metadata": {
  "kernelspec": {
   "display_name": "Python 3",
   "language": "python",
   "name": "python3"
  },
  "language_info": {
   "codemirror_mode": {
    "name": "ipython",
    "version": 3
   },
   "file_extension": ".py",
   "mimetype": "text/x-python",
   "name": "python",
   "nbconvert_exporter": "python",
   "pygments_lexer": "ipython3",
   "version": "3.8.5"
  }
 },
 "nbformat": 4,
 "nbformat_minor": 5
}
