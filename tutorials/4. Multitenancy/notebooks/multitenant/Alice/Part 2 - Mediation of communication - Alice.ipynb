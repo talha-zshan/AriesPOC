{
 "cells": [
  {
   "cell_type": "markdown",
   "id": "blocked-education",
   "metadata": {},
   "source": [
    "# Part 2 - Setting up a mediation for Alice via a mediator"
   ]
  },
  {
   "cell_type": "markdown",
   "id": "clinical-championship",
   "metadata": {},
   "source": [
    "### Initialise the multitenant controller"
   ]
  },
  {
   "cell_type": "code",
   "execution_count": null,
   "id": "useful-ethernet",
   "metadata": {},
   "outputs": [],
   "source": [
    "%autoawait\n",
    "import time\n",
    "import asyncio\n",
    "import pprint\n",
    "\n",
    "from aries_basic_controller.aries_controller import AriesAgentController\n",
    "from aries_basic_controller.aries_tenant_controller import AriesTenantController\n",
    "\n",
    "# Create a small utility to print json formatted outout more human-readable    \n",
    "pp = pprint.PrettyPrinter(indent=4)\n",
    "\n",
    "WEBHOOK_HOST = \"0.0.0.0\"\n",
    "WEBHOOK_BASE = \"\"\n",
    "\n",
    "WEBHOOK_PORT = 8022\n",
    "ADMIN_URL = \"http://multitenant-agent:8021\"\n"
   ]
  },
  {
   "cell_type": "code",
   "execution_count": null,
   "id": "driving-shoulder",
   "metadata": {},
   "outputs": [],
   "source": [
    "%store -r wallet_id_alice\n",
    "%store -r alice_jwt\n",
    "print(wallet_id_alice)"
   ]
  },
  {
   "cell_type": "code",
   "execution_count": null,
   "id": "august-samba",
   "metadata": {},
   "outputs": [],
   "source": [
    "# Based on the aca-py agent you wish to control\n",
    "alice_agent_controller = AriesTenantController(admin_url=ADMIN_URL, wallet_id=wallet_id_alice, tenant_jwt=alice_jwt)"
   ]
  },
  {
   "cell_type": "code",
   "execution_count": null,
   "id": "cognitive-dialogue",
   "metadata": {},
   "outputs": [],
   "source": [
    "agent_controller = AriesAgentController(admin_url=ADMIN_URL, api_key=\"password\", is_multitenant=True)"
   ]
  },
  {
   "cell_type": "code",
   "execution_count": null,
   "id": "popular-singles",
   "metadata": {},
   "outputs": [],
   "source": [
    "agent_controller.init_webhook_server(webhook_host=WEBHOOK_HOST, webhook_port=WEBHOOK_PORT, webhook_base=WEBHOOK_BASE)"
   ]
  },
  {
   "cell_type": "code",
   "execution_count": null,
   "id": "enclosed-stocks",
   "metadata": {},
   "outputs": [],
   "source": [
    "await agent_controller.listen_webhooks()"
   ]
  },
  {
   "cell_type": "code",
   "execution_count": null,
   "id": "blank-welcome",
   "metadata": {},
   "outputs": [],
   "source": [
    "def connection_handler(payload):\n",
    "    print(\"Connection Handler Called\")\n",
    "    connection_id = payload[\"connection_id\"]\n",
    "    state = payload[\"state\"]\n",
    "    print(f\"Connection {connection_id} in State {state}\")\n",
    "    \n",
    "connection_listener = {\n",
    "    \"handler\": connection_handler,\n",
    "    \"topic\": \"connections\"\n",
    "}\n",
    "\n",
    "alice_agent_controller.register_listeners([connection_listener], defaults=True)"
   ]
  },
  {
   "cell_type": "markdown",
   "id": "unusual-whale",
   "metadata": {},
   "source": [
    "### Updating JWT of the agent controller"
   ]
  },
  {
   "cell_type": "markdown",
   "id": "united-depression",
   "metadata": {},
   "source": [
    "Retrieve Alice's token we have stored previously"
   ]
  },
  {
   "cell_type": "code",
   "execution_count": null,
   "id": "particular-verse",
   "metadata": {},
   "outputs": [],
   "source": [
    "%store -r alice_jwt"
   ]
  },
  {
   "cell_type": "code",
   "execution_count": null,
   "id": "together-stuff",
   "metadata": {},
   "outputs": [],
   "source": [
    "print(alice_jwt)"
   ]
  },
  {
   "cell_type": "markdown",
   "id": "patent-stuart",
   "metadata": {},
   "source": [
    "Now we can update the agent controller with the JWT Token"
   ]
  },
  {
   "cell_type": "code",
   "execution_count": null,
   "id": "encouraging-distributor",
   "metadata": {},
   "outputs": [],
   "source": [
    "alice_agent_controller.update_tenant_jwt(tenant_jwt=alice_jwt, wallet_id=wallet_id_alice)"
   ]
  },
  {
   "cell_type": "markdown",
   "id": "given-lesson",
   "metadata": {},
   "source": [
    "Let's check it's really there"
   ]
  },
  {
   "cell_type": "code",
   "execution_count": null,
   "id": "ordered-character",
   "metadata": {},
   "outputs": [],
   "source": [
    "print(alice_agent_controller.tenant_jwt)"
   ]
  },
  {
   "cell_type": "markdown",
   "id": "elect-drive",
   "metadata": {},
   "source": [
    "### Let's create an invitation"
   ]
  },
  {
   "cell_type": "code",
   "execution_count": null,
   "id": "collaborative-tamil",
   "metadata": {},
   "outputs": [],
   "source": [
    "# Create Invitation\n",
    "unmediated_invite = await alice_agent_controller.connections.create_invitation()"
   ]
  },
  {
   "cell_type": "markdown",
   "id": "electronic-usage",
   "metadata": {},
   "source": [
    "We have created an invitation now. Don't worry about this until the end of the notebook. Then you should worry. This will be used to demonstrate something relevant later on."
   ]
  },
  {
   "cell_type": "markdown",
   "id": "reported-sleeve",
   "metadata": {},
   "source": [
    "### Go to the [mediation agent](http://localhost:8890/notebooks/Configure%20Mediator.ipynb) before you continue to generate and fetch the invitation\n",
    "\n"
   ]
  },
  {
   "cell_type": "markdown",
   "id": "parental-punch",
   "metadata": {},
   "source": [
    "### Accept Invite From Mediator\n",
    "\n",
    "Replace the invitation object below with the one you have generated in the mediator notebook"
   ]
  },
  {
   "cell_type": "code",
   "execution_count": null,
   "id": "attempted-sperm",
   "metadata": {},
   "outputs": [],
   "source": [
    "mediator_invitation = {'@type': 'did:sov:BzCbsNYhMrjHiqZDTUASHg;spec/connections/1.0/invitation', '@id': '82c4b84e-a76f-4ebc-a024-f24a1bde880f', 'label': 'MEDIATOR', 'recipientKeys': ['DCRBaGyHP6BwiSpqDBnL4h9tR2MNGAVVykifpRUS7e5N'], 'serviceEndpoint': 'http://3615ce378683.ngrok.io'}"
   ]
  },
  {
   "cell_type": "code",
   "execution_count": null,
   "id": "specialized-article",
   "metadata": {},
   "outputs": [],
   "source": [
    "response = await alice_agent_controller.connections.accept_connection(mediator_invitation)\n",
    "pp.pprint(response)"
   ]
  },
  {
   "cell_type": "code",
   "execution_count": null,
   "id": "bridal-velvet",
   "metadata": {},
   "outputs": [],
   "source": [
    "connection_id = response[\"connection_id\"]\n",
    "print(connection_id)"
   ]
  },
  {
   "cell_type": "markdown",
   "id": "subsequent-hungarian",
   "metadata": {},
   "source": [
    "### Request mediation\n",
    "\n",
    "Now that we have successfully established a connection between Alice and the mediator agent we can proceed to request mediation from the mediator."
   ]
  },
  {
   "cell_type": "code",
   "execution_count": null,
   "id": "adaptive-courtesy",
   "metadata": {},
   "outputs": [],
   "source": [
    "### check state of connection\n",
    "connection = await alice_agent_controller.connections.get_connection(connection_id)\n",
    "print(connection['state'])"
   ]
  },
  {
   "cell_type": "code",
   "execution_count": null,
   "id": "durable-compromise",
   "metadata": {},
   "outputs": [],
   "source": [
    "# Let's check for the state\n",
    "if connection['state'] != 'active':\n",
    "    print(\"No active connection. \\n Please go back and ensure you have established an active connection between the mediator agent and Alice's subwallet agent\")    \n",
    "else:\n",
    "    ## request mediation\n",
    "    mediation_req = await alice_agent_controller.mediation.request_mediation(connection_id)\n",
    "    print(mediation_req)\n"
   ]
  },
  {
   "cell_type": "markdown",
   "id": "conceptual-seeking",
   "metadata": {},
   "source": [
    "### Let's have a look at the mediation records and we should see our mediation in there"
   ]
  },
  {
   "cell_type": "code",
   "execution_count": null,
   "id": "maritime-campbell",
   "metadata": {},
   "outputs": [],
   "source": [
    "response = await alice_agent_controller.mediation.get_mediation_records()\n",
    "print(response)"
   ]
  },
  {
   "cell_type": "markdown",
   "id": "traditional-material",
   "metadata": {},
   "source": [
    "### Set a default mediator\n",
    "\n",
    "By setting a default mediator, all DIDComm connections we establish will be routed through this mediator. To do this we use the appropriate API endpoint via the agent controller and pass it the mediation ID of our mediated connection."
   ]
  },
  {
   "cell_type": "code",
   "execution_count": null,
   "id": "anticipated-suffering",
   "metadata": {},
   "outputs": [],
   "source": [
    "default_mediation_res = await alice_agent_controller.mediation.set_default_mediator(response[0]['mediation_id'])\n",
    "pp.pprint(default_mediation_res)"
   ]
  },
  {
   "cell_type": "markdown",
   "id": "unnecessary-arbor",
   "metadata": {},
   "source": [
    "### Check whether our default mediator is really there"
   ]
  },
  {
   "cell_type": "code",
   "execution_count": null,
   "id": "detected-chassis",
   "metadata": {},
   "outputs": [],
   "source": [
    "default_mediator = await alice_agent_controller.mediation.get_default_mediator()\n",
    "pp.pprint(default_mediator)\n",
    "\n",
    "if default_mediator['connection_id'] != connection_id:\n",
    "    print(\"Oooops! Something went wrong setting the default mediator. Please, check above and try again\")\n",
    "else:\n",
    "    print(\"\\n\\n Hooray! We have succesfully set a default mediator.\")\n"
   ]
  },
  {
   "cell_type": "code",
   "execution_count": null,
   "id": "controlled-release",
   "metadata": {},
   "outputs": [],
   "source": [
    "# Create Invitation\n",
    "invite = await alice_agent_controller.connections.create_invitation()\n",
    "connection_id = invite[\"connection_id\"]\n",
    "invite_message = invite['invitation']\n",
    "print(\"Connection ID\", connection_id)\n",
    "print(\"Invitation\")\n",
    "print(invite_message)\n",
    "pp.pprint(\"\\n\" + invite_message['routingKeys'][0])"
   ]
  },
  {
   "cell_type": "markdown",
   "id": "level-addiction",
   "metadata": {},
   "source": [
    "### Checking routing keys"
   ]
  },
  {
   "cell_type": "markdown",
   "id": "clean-donor",
   "metadata": {},
   "source": [
    "This routing key should be used from now on to encrypt all messages/comminucation. Below you'll see that going back our initially created invitation we don't have such key."
   ]
  },
  {
   "cell_type": "code",
   "execution_count": null,
   "id": "cross-haiti",
   "metadata": {},
   "outputs": [],
   "source": [
    "unmediated_invite_message = unmediated_invite['invitation']\n",
    "pp.pprint(unmediated_invite_message)"
   ]
  },
  {
   "cell_type": "markdown",
   "id": "forward-springfield",
   "metadata": {},
   "source": [
    "As you can see, there is no routing key in there"
   ]
  },
  {
   "cell_type": "markdown",
   "id": "little-desperate",
   "metadata": {},
   "source": [
    "### Comparing endpoints"
   ]
  },
  {
   "cell_type": "markdown",
   "id": "dominican-smart",
   "metadata": {},
   "source": [
    "Let's check and see that the service endpoint of the mediated connection is now actually the one we got from the invitation from the mediator agent.\n",
    "\n",
    "We'll also see that this is not the endpoint for the unmediated invitation."
   ]
  },
  {
   "cell_type": "code",
   "execution_count": null,
   "id": "linear-salad",
   "metadata": {},
   "outputs": [],
   "source": [
    "print(\"Unmediated endpoint: \" + unmediated_invite_message['serviceEndpoint'] + \"\\n\\n\")\n",
    "print(\"Mediated endpoint: \" + invite_message['serviceEndpoint'])\n",
    "print(\"Mediator Invitation Ednpoint: \" + mediator_invitation['serviceEndpoint'])"
   ]
  },
  {
   "cell_type": "markdown",
   "id": "acquired-position",
   "metadata": {},
   "source": [
    "### Great. You're done with this tutorial. Please move on part 3.."
   ]
  },
  {
   "cell_type": "code",
   "execution_count": null,
   "id": "touched-pavilion",
   "metadata": {},
   "outputs": [],
   "source": [
    "await agent_controller.terminate()\n",
    "await alice_agent_controller.terminate()"
   ]
  },
  {
   "cell_type": "code",
   "execution_count": null,
   "id": "alpine-asbestos",
   "metadata": {},
   "outputs": [],
   "source": []
  }
 ],
 "metadata": {
  "kernelspec": {
   "display_name": "Python 3",
   "language": "python",
   "name": "python3"
  },
  "language_info": {
   "codemirror_mode": {
    "name": "ipython",
    "version": 3
   },
   "file_extension": ".py",
   "mimetype": "text/x-python",
   "name": "python",
   "nbconvert_exporter": "python",
   "pygments_lexer": "ipython3",
   "version": "3.8.5"
  }
 },
 "nbformat": 4,
 "nbformat_minor": 5
}
