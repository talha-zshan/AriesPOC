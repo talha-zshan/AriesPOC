{
 "cells": [
  {
   "cell_type": "markdown",
   "id": "educated-audience",
   "metadata": {},
   "source": [
    "# Part 1 - Exploring Sub Wallet Management\n",
    "\n",
    "This agent has been initialised using the multitenant flag. This means a single ACA-Py instance can be used to manage multiple subwallets. Each tenant gets their own encrypted data storage for managing their own connections, credentials and interactions etc. \n",
    "\n",
    "A mutli-tenant ACA-Py instance contains a base wallet that is only capable of managing the creation and deletion of subwallets. Subwallets then must authenticate to the ACA-Py agent using a JWT Token generated when the subwallet is created. A tenant agent can do all funcationality of a standard ACA-Py instance.\n",
    "\n",
    "### Useful links\n",
    "\n",
    "* [What is mult-tenancy](https://whatis.techtarget.com/definition/multi-tenancy)\n",
    "* [ACA-Py mult-tenant documentation](https://github.com/hyperledger/aries-cloudagent-python/blob/main/Multitenancy.md)\n",
    "\n",
    "\n",
    "\n",
    "### Tutorial Structure\n",
    "\n",
    "1. Create a subwallet for Alice (this notebook)\n",
    "2. Authenticate as Alice using the tenant_jwt and configure a mediator\n",
    "3. Issue Alice a Credential from an External Agent\n",
    "4. Alice Issues a Credential to the External Agent"
   ]
  },
  {
   "cell_type": "markdown",
   "id": "resistant-mexican",
   "metadata": {},
   "source": [
    "### Initialise the multitenant agent controller"
   ]
  },
  {
   "cell_type": "code",
   "execution_count": null,
   "id": "similar-saturday",
   "metadata": {},
   "outputs": [],
   "source": [
    "%autoawait\n",
    "import time\n",
    "import asyncio\n",
    "import pprint\n",
    "\n",
    "from aries_basic_controller.aries_controller import AriesAgentController\n",
    "from aries_basic_controller.aries_tenant_controller import AriesTenantController\n",
    "\n",
    "# Create a small utility to print json formatted outout more human-readable    \n",
    "pp = pprint.PrettyPrinter(indent=4)\n",
    "    \n",
    "WEBHOOK_HOST = \"0.0.0.0\"\n",
    "WEBHOOK_BASE = \"\"\n",
    "\n",
    "WEBHOOK_PORT = 8022\n",
    "ADMIN_URL = \"http://multitenant-agent:8021\""
   ]
  },
  {
   "cell_type": "code",
   "execution_count": null,
   "id": "proprietary-brooklyn",
   "metadata": {},
   "outputs": [],
   "source": [
    "# Based on the aca-py agent you wish to control\n",
    "agent_controller = AriesAgentController(admin_url=ADMIN_URL, api_key=\"password\", is_multitenant=True)"
   ]
  },
  {
   "cell_type": "code",
   "execution_count": null,
   "id": "raising-dispatch",
   "metadata": {},
   "outputs": [],
   "source": [
    "agent_controller.init_webhook_server(webhook_host=WEBHOOK_HOST, webhook_port=WEBHOOK_PORT, webhook_base=WEBHOOK_BASE)"
   ]
  },
  {
   "cell_type": "code",
   "execution_count": null,
   "id": "grateful-evaluation",
   "metadata": {},
   "outputs": [],
   "source": [
    "await agent_controller.listen_webhooks()"
   ]
  },
  {
   "cell_type": "markdown",
   "id": "laughing-lover",
   "metadata": {},
   "source": [
    "### Check for subwallets on the agent\n",
    "\n",
    "This should yield an empty result, but not error. That means we successfully asked the base wallet of the multitenant agent about subwallets it has stored. ACA-Py instances not in the multitenant configuration will not have access to this API."
   ]
  },
  {
   "cell_type": "code",
   "execution_count": null,
   "id": "protecting-harassment",
   "metadata": {},
   "outputs": [],
   "source": [
    "subwallets = await agent_controller.multitenant.query_subwallets()\n",
    "pp.pprint(subwallets)\n"
   ]
  },
  {
   "cell_type": "code",
   "execution_count": null,
   "id": "lesser-cinema",
   "metadata": {},
   "outputs": [],
   "source": [
    "# Uncomment and run the following to remove ALL existing subwallets\n",
    "\n",
    "# for i in range(len(subwallets['results'])):\n",
    "#     await agent_controller.multitenant.remove_subwallet_by_id(subwallets['results'][i]['settings']['wallet.id'])"
   ]
  },
  {
   "cell_type": "markdown",
   "id": "prime-jacob",
   "metadata": {},
   "source": [
    "### Let's create a subwallet for Alice\n",
    "\n",
    "Below is an example payload to achieve this. These properties should be fairly familiar to you if you have been through the other tutorials and looked in the manage file before.\n",
    "\n",
    "A key different is the `key_management_mode` which is this case is set to `managed`. The base wallet, is managing the keys of Alice's agent. Alice is dependent on them to do this trustworthily"
   ]
  },
  {
   "cell_type": "code",
   "execution_count": null,
   "id": "comprehensive-impact",
   "metadata": {},
   "outputs": [],
   "source": [
    "## First let's create the payload\n",
    "\n",
    "payload = {\n",
    "  \"image_url\": \"https://aries.ca/images/sample.png\",\n",
    "  \"key_management_mode\": \"managed\",\n",
    "  \"label\": \"Alice\",\n",
    "  \"wallet_dispatch_type\": \"default\",\n",
    "  \"wallet_key\": \"MySecretKey1234\",\n",
    "  \"wallet_name\": \"AlicesWallet\",\n",
    "  \"wallet_type\": \"indy\",\n",
    "}"
   ]
  },
  {
   "cell_type": "code",
   "execution_count": null,
   "id": "romantic-screw",
   "metadata": {},
   "outputs": [],
   "source": [
    "## Now, we create the wallet on the agent \n",
    "response_alice = await agent_controller.multitenant.create_subwallet(payload)\n",
    "pp.pprint(response_alice)"
   ]
  },
  {
   "cell_type": "markdown",
   "id": "different-tolerance",
   "metadata": {},
   "source": [
    "### Let's create another wallet for Joe\n",
    "\n",
    "Note, that here we have changed the `label` and the `wallet_name` values. The `wallet_name` has to be unique. If you were to try and create another subwallet with the same wallet name, you would receive an error, because wallet names are unique identifiers."
   ]
  },
  {
   "cell_type": "code",
   "execution_count": null,
   "id": "twelve-journal",
   "metadata": {},
   "outputs": [],
   "source": [
    "## First let's create the payload\n",
    "\n",
    "payload = {\n",
    "  \"image_url\": \"https://aries.ca/images/sample.png\",\n",
    "  \"key_management_mode\": \"managed\",\n",
    "  \"label\": \"Joe\",\n",
    "  \"wallet_dispatch_type\": \"default\",\n",
    "  \"wallet_key\": \"MySecretKey123\",\n",
    "  \"wallet_name\": \"JoesWallet2\",\n",
    "  \"wallet_type\": \"indy\",\n",
    "}"
   ]
  },
  {
   "cell_type": "code",
   "execution_count": null,
   "id": "independent-exclusive",
   "metadata": {},
   "outputs": [],
   "source": [
    "## Now, we create the wallet on the agent \n",
    "\n",
    "response_joe = await agent_controller.multitenant.create_subwallet(payload)\n",
    "pp.pprint(response_joe)"
   ]
  },
  {
   "cell_type": "markdown",
   "id": "czech-newspaper",
   "metadata": {},
   "source": [
    "### Extract the wallet ID\n",
    "\n",
    "The wallet id is a unique identifier created by the ACA-Py instance to identify a particular tenant wallet instance. The base wallet controller can use this when interacting with subwallets through the multitenant API."
   ]
  },
  {
   "cell_type": "code",
   "execution_count": null,
   "id": "sustained-sculpture",
   "metadata": {},
   "outputs": [],
   "source": [
    "wallet_id_alice = response_alice['wallet_id']\n",
    "wallet_id_joe = response_joe['wallet_id']\n",
    "\n",
    "print(\"Alice's ID: \" + wallet_id_alice)\n",
    "print(\"Joe's ID: \"  + wallet_id_joe)"
   ]
  },
  {
   "cell_type": "markdown",
   "id": "future-technology",
   "metadata": {},
   "source": [
    "\n",
    "### Update a single subwallet\n",
    "\n",
    "Let's update Joe's wallet label to Joeseph via the controller"
   ]
  },
  {
   "cell_type": "code",
   "execution_count": null,
   "id": "adolescent-wings",
   "metadata": {},
   "outputs": [],
   "source": [
    "request_body = {\n",
    "  \"wallet_webhook_urls\": [\n",
    "    f\"http://multitenant-notebook:8022/{wallet_id_alice}\"\n",
    "  ]\n",
    "}\n",
    "\n",
    "response = await agent_controller.multitenant.update_subwallet_by_id(request_body, wallet_id_alice)\n",
    "pp.pprint(response)"
   ]
  },
  {
   "cell_type": "code",
   "execution_count": null,
   "id": "isolated-perspective",
   "metadata": {},
   "outputs": [],
   "source": [
    "request_body = {\n",
    "  \"wallet_webhook_urls\": [\n",
    "    f\"http://multitenant-notebook:8022/{wallet_id_joe}\"\n",
    "  ]\n",
    "}\n",
    "\n",
    "response = await agent_controller.multitenant.update_subwallet_by_id(request_body, wallet_id_joe)\n",
    "pp.pprint(response)"
   ]
  },
  {
   "cell_type": "code",
   "execution_count": null,
   "id": "strong-mission",
   "metadata": {},
   "outputs": [],
   "source": [
    "response_all_wallets = await agent_controller.multitenant.query_subwallets()\n",
    "# response_single_wallet = await agent_controller.multitenant.get_single_subwallet_by_id(wallet_id)\n",
    "\n",
    "# print(response_single_wallet)\n",
    "pp.pprint(response_all_wallets)"
   ]
  },
  {
   "cell_type": "markdown",
   "id": "southern-pension",
   "metadata": {},
   "source": [
    "### Get the auth token for a  subwallet\n",
    "\n",
    "Subwallets have unique authentication tokens that can be obtained via the controller"
   ]
  },
  {
   "cell_type": "code",
   "execution_count": null,
   "id": "worst-assignment",
   "metadata": {},
   "outputs": [],
   "source": [
    "response_alice = await agent_controller.multitenant.get_subwallet_authtoken_by_id(wallet_id_alice)\n",
    "response_joe = await agent_controller.multitenant.get_subwallet_authtoken_by_id(wallet_id_joe)"
   ]
  },
  {
   "cell_type": "markdown",
   "id": "permanent-update",
   "metadata": {},
   "source": [
    "## Store Alice's JWT for use in later tutorials\n",
    "\n",
    "The % is a magic method to store variables from a notebook to the jupyter runtime"
   ]
  },
  {
   "cell_type": "code",
   "execution_count": null,
   "id": "supposed-spirituality",
   "metadata": {},
   "outputs": [],
   "source": [
    "alice_jwt = response_alice[\"token\"]\n",
    "joe_jwt = response_joe[\"token\"]\n",
    "\n",
    "print(\"Alice JWT\", alice_jwt)\n",
    "print(\"Joe JWT\", joe_jwt)"
   ]
  },
  {
   "cell_type": "code",
   "execution_count": null,
   "id": "utility-keyboard",
   "metadata": {},
   "outputs": [],
   "source": [
    "%store alice_jwt\n",
    "%store wallet_id_alice"
   ]
  },
  {
   "cell_type": "code",
   "execution_count": null,
   "id": "convenient-consortium",
   "metadata": {},
   "outputs": [],
   "source": [
    "# Based on the aca-py agent you wish to control\n",
    "alice_agent_controller = AriesTenantController(admin_url=ADMIN_URL, wallet_id=wallet_id_alice, tenant_jwt=alice_jwt)"
   ]
  },
  {
   "cell_type": "code",
   "execution_count": null,
   "id": "orange-niagara",
   "metadata": {},
   "outputs": [],
   "source": [
    "joe_agent_controller = AriesTenantController(admin_url=ADMIN_URL, wallet_id=wallet_id_joe, tenant_jwt=joe_jwt)"
   ]
  },
  {
   "cell_type": "code",
   "execution_count": null,
   "id": "discrete-ethiopia",
   "metadata": {},
   "outputs": [],
   "source": [
    "def connection_handler(payload):\n",
    "    print(\"Alices Connection Handler Called\")\n",
    "    connection_id = payload[\"connection_id\"]\n",
    "    state = payload[\"state\"]\n",
    "    print(f\"Connection {connection_id} in State {state}\")\n",
    "    \n",
    "connection_listener = {\n",
    "    \"handler\": connection_handler,\n",
    "    \"topic\": \"connections\"\n",
    "}\n",
    "\n",
    "def messages_handler(payload):\n",
    "    print(\"Alices Recieved a Message\")\n",
    "    connection_id = payload[\"connection_id\"]\n",
    "\n",
    "    print(\"Handle message\", payload, connection_id)\n",
    "    \n",
    "message_listener = {\n",
    "    \"handler\": messages_handler,\n",
    "    \"topic\": \"basicmessages\"\n",
    "}\n",
    "\n",
    "alice_agent_controller.register_listeners([message_listener,connection_listener], defaults=True)"
   ]
  },
  {
   "cell_type": "code",
   "execution_count": null,
   "id": "directed-canon",
   "metadata": {},
   "outputs": [],
   "source": [
    "def joe_connection_handler(payload):\n",
    "    print(\"Joes Connection Handler Called\")\n",
    "    connection_id = payload[\"connection_id\"]\n",
    "    state = payload[\"state\"]\n",
    "    print(f\"Connection {connection_id} in State {state}\")\n",
    "    \n",
    "joe_connection_listener = {\n",
    "    \"handler\": joe_connection_handler,\n",
    "    \"topic\": \"connections\"\n",
    "}\n",
    "\n",
    "def joe_messages_handler(payload):\n",
    "    connection_id = payload[\"connection_id\"]\n",
    "    asyncio.get_event_loop().create_task(joe_agent_controller.messaging.send_message(connection_id, \"This is a response from Joe\"))\n",
    "    print(\"Handling Joes message\", payload, connection_id)\n",
    "\n",
    "\n",
    "joe_message_listener = {\n",
    "    \"handler\": joe_messages_handler,\n",
    "    \"topic\": \"basicmessages\"\n",
    "}\n",
    "\n",
    "\n",
    "joe_agent_controller.register_listeners([joe_message_listener,joe_connection_listener], defaults=True)"
   ]
  },
  {
   "cell_type": "code",
   "execution_count": null,
   "id": "joint-strategy",
   "metadata": {},
   "outputs": [],
   "source": [
    "response = await alice_agent_controller.connections.create_invitation()\n",
    "print(response[\"invitation\"])\n",
    "joe_connection_id = response[\"connection_id\"]\n",
    "\n",
    "joes_invitation = response[\"invitation\"]"
   ]
  },
  {
   "cell_type": "code",
   "execution_count": null,
   "id": "liquid-coaching",
   "metadata": {},
   "outputs": [],
   "source": [
    "response = await joe_agent_controller.connections.accept_connection(joes_invitation)"
   ]
  },
  {
   "cell_type": "code",
   "execution_count": null,
   "id": "prescribed-veteran",
   "metadata": {},
   "outputs": [],
   "source": [
    "await alice_agent_controller.messaging.send_message(joe_connection_id, \"Hey Joe, it's Alice here\")"
   ]
  },
  {
   "cell_type": "markdown",
   "id": "handed-burlington",
   "metadata": {},
   "source": [
    "### Remove the subwallet from the agent \n",
    "\n",
    "We can easily use the controller to remove the subwallets. Note that Joe has no immediate control over the decision of the base wallet controller to remove their wallet. Again Joe trusts the Base controller of the multitenant agent to manage his wallet in good faith, or in line with some contractual agreement etc.\n",
    "\n",
    "Let's go ahead and remove Joe's wallets from the base wallet."
   ]
  },
  {
   "cell_type": "code",
   "execution_count": null,
   "id": "wrong-birmingham",
   "metadata": {},
   "outputs": [],
   "source": [
    "response_joe = await agent_controller.multitenant.remove_subwallet_by_id(wallet_id_joe)\n",
    "\n",
    "pp.pprint(response_joe)"
   ]
  },
  {
   "cell_type": "markdown",
   "id": "legendary-arbor",
   "metadata": {},
   "source": [
    "### Check Joe's wallet has been removed\n",
    "\n",
    "This should now give a result only containing Alice's wallet"
   ]
  },
  {
   "cell_type": "code",
   "execution_count": null,
   "id": "caring-layout",
   "metadata": {},
   "outputs": [],
   "source": [
    "response_all_wallets = await agent_controller.multitenant.query_subwallets()\n",
    "pp.pprint(response_all_wallets)"
   ]
  },
  {
   "cell_type": "markdown",
   "id": "guided-corps",
   "metadata": {},
   "source": [
    "### Terminate the controllers\n",
    "\n",
    "Let's alos terminate the controller."
   ]
  },
  {
   "cell_type": "code",
   "execution_count": null,
   "id": "crude-ebony",
   "metadata": {},
   "outputs": [],
   "source": [
    "response = await agent_controller.terminate()\n",
    "print(response)"
   ]
  },
  {
   "cell_type": "code",
   "execution_count": null,
   "id": "protected-switzerland",
   "metadata": {},
   "outputs": [],
   "source": [
    "await alice_agent_controller.terminate()\n",
    "await joe_agent_controller.terminate()"
   ]
  },
  {
   "cell_type": "markdown",
   "id": "extreme-metallic",
   "metadata": {},
   "source": [
    "### Continue to [Part 2](http://localhost:8888/lab/tree/Alice/Part%202%20-%20Mediation%20of%20communication%20-%20Alice.ipynb) where you will learn how to interact with the ACA-Py instance as Alice"
   ]
  }
 ],
 "metadata": {
  "kernelspec": {
   "display_name": "Python 3",
   "language": "python",
   "name": "python3"
  },
  "language_info": {
   "codemirror_mode": {
    "name": "ipython",
    "version": 3
   },
   "file_extension": ".py",
   "mimetype": "text/x-python",
   "name": "python",
   "nbconvert_exporter": "python",
   "pygments_lexer": "ipython3",
   "version": "3.8.5"
  }
 },
 "nbformat": 4,
 "nbformat_minor": 5
}
